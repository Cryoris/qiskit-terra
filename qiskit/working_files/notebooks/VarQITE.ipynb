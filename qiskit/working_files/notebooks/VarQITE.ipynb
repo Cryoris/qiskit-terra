{
 "cells": [
  {
   "cell_type": "markdown",
   "metadata": {},
   "source": [
    "## VarQITE\n",
    "Variational Quantum Imaginary Time Evolution can be executed through the gradient framework's `NaturalGradient`."
   ]
  },
  {
   "cell_type": "markdown",
   "metadata": {},
   "source": [
    "#### Setting the stage\n",
    "\n",
    "First define the evolution time and operator (Hamiltonina) as well as the Ansatz."
   ]
  },
  {
   "cell_type": "code",
   "execution_count": 26,
   "metadata": {},
   "outputs": [],
   "source": [
    "import numpy as np\n",
    "\n",
    "from qiskit.aqua.operators import SummedOp, StateFn, Z, I, ListOp\n",
    "from qiskit.aqua.operators.gradients import NaturalGradient\n",
    "from qiskit.circuit.library import EfficientSU2\n",
    "from qiskit import QuantumCircuit, QuantumRegister, ClassicalRegister\n",
    "from qiskit.circuit.library import ZGate, YGate"
   ]
  },
  {
   "cell_type": "code",
   "execution_count": 29,
   "metadata": {},
   "outputs": [
    {
     "data": {
      "image/png": "[encoded data removed]",
      "text/plain": [
       "<Figure size 474.195x204.68 with 1 Axes>"
      ]
     },
     "execution_count": 29,
     "metadata": {},
     "output_type": "execute_result"
    }
   ],
   "source": [
    "qr = QuantumRegister(2)\n",
    "qr_v = QuantumRegister(1)\n",
    "cr = ClassicalRegister(1)\n",
    "qc = QuantumCircuit(qr, cr)\n",
    "v = YGate(label='V')\n",
    "u = YGate(label='U')\n",
    "cv = v.control(1)\n",
    "cu = u.control(1)\n",
    "qc.append(cv, qr)\n",
    "qc.x(qr[0])\n",
    "qc.append(cu, qr)\n",
    "qc.x(qr[0])\n",
    "qc.h(qr[0])\n",
    "qc.measure(qr[0], cr[0])\n",
    "qc.draw(output='mpl')"
   ]
  },
  {
   "cell_type": "code",
   "execution_count": 7,
   "metadata": {},
   "outputs": [
    {
     "name": "stderr",
     "output_type": "stream",
     "text": [
      "WARNING Unable to compile latex. The output from the pdflatex command can be found in latex_error.log\n"
     ]
    },
    {
     "ename": "CalledProcessError",
     "evalue": "Command '['pdflatex', '-halt-on-error', '-output-directory=/var/folders/l2/21_vxlh11kscx1fq9x7xzlfm0000kp/T/tmpfz5ui7ea', 'circuit.tex']' returned non-zero exit status 1.",
     "output_type": "error",
     "traceback": [
      "\u001b[0;31m---------------------------------------------------------------------------\u001b[0m",
      "\u001b[0;31mCalledProcessError\u001b[0m                        Traceback (most recent call last)",
      "\u001b[0;32m<ipython-input-7-2647b20424b3>\u001b[0m in \u001b[0;36m<module>\u001b[0;34m\u001b[0m\n\u001b[0;32m----> 1\u001b[0;31m \u001b[0mEfficientSU2\u001b[0m\u001b[0;34m(\u001b[0m\u001b[0mnum_qubits\u001b[0m\u001b[0;34m=\u001b[0m\u001b[0;36m3\u001b[0m\u001b[0;34m,\u001b[0m \u001b[0mreps\u001b[0m\u001b[0;34m=\u001b[0m\u001b[0;36m1\u001b[0m\u001b[0;34m,\u001b[0m \u001b[0mparameter_prefix\u001b[0m\u001b[0;34m=\u001b[0m\u001b[0;34mr'$\\omega$'\u001b[0m\u001b[0;34m)\u001b[0m\u001b[0;34m.\u001b[0m\u001b[0mdraw\u001b[0m\u001b[0;34m(\u001b[0m\u001b[0moutput\u001b[0m\u001b[0;34m=\u001b[0m\u001b[0;34m'latex'\u001b[0m\u001b[0;34m,\u001b[0m \u001b[0mfilename\u001b[0m\u001b[0;34m=\u001b[0m\u001b[0;34m'efficientSU2.pdf'\u001b[0m\u001b[0;34m)\u001b[0m\u001b[0;34m\u001b[0m\u001b[0;34m\u001b[0m\u001b[0m\n\u001b[0m",
      "\u001b[0;32m~/Documents/GitHub/qiskit-terra/qiskit/circuit/quantumcircuit.py\u001b[0m in \u001b[0;36mdraw\u001b[0;34m(self, output, scale, filename, style, interactive, plot_barriers, reverse_bits, justify, vertical_compression, idle_wires, with_layout, fold, ax, initial_state, cregbundle)\u001b[0m\n\u001b[1;32m   1669\u001b[0m             \u001b[0max\u001b[0m\u001b[0;34m=\u001b[0m\u001b[0max\u001b[0m\u001b[0;34m,\u001b[0m\u001b[0;34m\u001b[0m\u001b[0;34m\u001b[0m\u001b[0m\n\u001b[1;32m   1670\u001b[0m             \u001b[0minitial_state\u001b[0m\u001b[0;34m=\u001b[0m\u001b[0minitial_state\u001b[0m\u001b[0;34m,\u001b[0m\u001b[0;34m\u001b[0m\u001b[0;34m\u001b[0m\u001b[0m\n\u001b[0;32m-> 1671\u001b[0;31m             \u001b[0mcregbundle\u001b[0m\u001b[0;34m=\u001b[0m\u001b[0mcregbundle\u001b[0m\u001b[0;34m,\u001b[0m\u001b[0;34m\u001b[0m\u001b[0;34m\u001b[0m\u001b[0m\n\u001b[0m\u001b[1;32m   1672\u001b[0m         )\n\u001b[1;32m   1673\u001b[0m \u001b[0;34m\u001b[0m\u001b[0m\n",
      "\u001b[0;32m~/Documents/GitHub/qiskit-terra/qiskit/visualization/circuit_visualization.py\u001b[0m in \u001b[0;36mcircuit_drawer\u001b[0;34m(circuit, scale, filename, style, output, interactive, plot_barriers, reverse_bits, justify, vertical_compression, idle_wires, with_layout, fold, ax, initial_state, cregbundle)\u001b[0m\n\u001b[1;32m    218\u001b[0m             \u001b[0mwith_layout\u001b[0m\u001b[0;34m=\u001b[0m\u001b[0mwith_layout\u001b[0m\u001b[0;34m,\u001b[0m\u001b[0;34m\u001b[0m\u001b[0;34m\u001b[0m\u001b[0m\n\u001b[1;32m    219\u001b[0m             \u001b[0minitial_state\u001b[0m\u001b[0;34m=\u001b[0m\u001b[0minitial_state\u001b[0m\u001b[0;34m,\u001b[0m\u001b[0;34m\u001b[0m\u001b[0;34m\u001b[0m\u001b[0m\n\u001b[0;32m--> 220\u001b[0;31m             \u001b[0mcregbundle\u001b[0m\u001b[0;34m=\u001b[0m\u001b[0mcregbundle\u001b[0m\u001b[0;34m,\u001b[0m\u001b[0;34m\u001b[0m\u001b[0;34m\u001b[0m\u001b[0m\n\u001b[0m\u001b[1;32m    221\u001b[0m         )\n\u001b[1;32m    222\u001b[0m     \u001b[0;32melif\u001b[0m \u001b[0moutput\u001b[0m \u001b[0;34m==\u001b[0m \u001b[0;34m\"latex_source\"\u001b[0m\u001b[0;34m:\u001b[0m\u001b[0;34m\u001b[0m\u001b[0;34m\u001b[0m\u001b[0m\n",
      "\u001b[0;32m~/Documents/GitHub/qiskit-terra/qiskit/visualization/circuit_visualization.py\u001b[0m in \u001b[0;36m_latex_circuit_drawer\u001b[0;34m(circuit, scale, filename, plot_barriers, reverse_bits, justify, idle_wires, with_layout, initial_state, cregbundle)\u001b[0m\n\u001b[1;32m    411\u001b[0m                 \u001b[0mstdout\u001b[0m\u001b[0;34m=\u001b[0m\u001b[0msubprocess\u001b[0m\u001b[0;34m.\u001b[0m\u001b[0mPIPE\u001b[0m\u001b[0;34m,\u001b[0m\u001b[0;34m\u001b[0m\u001b[0;34m\u001b[0m\u001b[0m\n\u001b[1;32m    412\u001b[0m                 \u001b[0mstderr\u001b[0m\u001b[0;34m=\u001b[0m\u001b[0msubprocess\u001b[0m\u001b[0;34m.\u001b[0m\u001b[0mDEVNULL\u001b[0m\u001b[0;34m,\u001b[0m\u001b[0;34m\u001b[0m\u001b[0;34m\u001b[0m\u001b[0m\n\u001b[0;32m--> 413\u001b[0;31m                 \u001b[0mcheck\u001b[0m\u001b[0;34m=\u001b[0m\u001b[0;32mTrue\u001b[0m\u001b[0;34m,\u001b[0m\u001b[0;34m\u001b[0m\u001b[0;34m\u001b[0m\u001b[0m\n\u001b[0m\u001b[1;32m    414\u001b[0m             )\n\u001b[1;32m    415\u001b[0m         \u001b[0;32mexcept\u001b[0m \u001b[0mOSError\u001b[0m \u001b[0;32mas\u001b[0m \u001b[0mex\u001b[0m\u001b[0;34m:\u001b[0m\u001b[0;34m\u001b[0m\u001b[0;34m\u001b[0m\u001b[0m\n",
      "\u001b[0;32m~/anaconda3/envs/QiskitDevenv/lib/python3.7/subprocess.py\u001b[0m in \u001b[0;36mrun\u001b[0;34m(input, capture_output, timeout, check, *popenargs, **kwargs)\u001b[0m\n\u001b[1;32m    485\u001b[0m         \u001b[0;32mif\u001b[0m \u001b[0mcheck\u001b[0m \u001b[0;32mand\u001b[0m \u001b[0mretcode\u001b[0m\u001b[0;34m:\u001b[0m\u001b[0;34m\u001b[0m\u001b[0;34m\u001b[0m\u001b[0m\n\u001b[1;32m    486\u001b[0m             raise CalledProcessError(retcode, process.args,\n\u001b[0;32m--> 487\u001b[0;31m                                      output=stdout, stderr=stderr)\n\u001b[0m\u001b[1;32m    488\u001b[0m     \u001b[0;32mreturn\u001b[0m \u001b[0mCompletedProcess\u001b[0m\u001b[0;34m(\u001b[0m\u001b[0mprocess\u001b[0m\u001b[0;34m.\u001b[0m\u001b[0margs\u001b[0m\u001b[0;34m,\u001b[0m \u001b[0mretcode\u001b[0m\u001b[0;34m,\u001b[0m \u001b[0mstdout\u001b[0m\u001b[0;34m,\u001b[0m \u001b[0mstderr\u001b[0m\u001b[0;34m)\u001b[0m\u001b[0;34m\u001b[0m\u001b[0;34m\u001b[0m\u001b[0m\n\u001b[1;32m    489\u001b[0m \u001b[0;34m\u001b[0m\u001b[0m\n",
      "\u001b[0;31mCalledProcessError\u001b[0m: Command '['pdflatex', '-halt-on-error', '-output-directory=/var/folders/l2/21_vxlh11kscx1fq9x7xzlfm0000kp/T/tmpfz5ui7ea', 'circuit.tex']' returned non-zero exit status 1."
     ]
    }
   ],
   "source": [
    "EfficientSU2(num_qubits=3, reps=1, parameter_prefix=r'$\\omega$').draw(output='mpl', filename='efficientSU2.pdf')"
   ]
  },
  {
   "cell_type": "code",
   "execution_count": 2,
   "metadata": {},
   "outputs": [],
   "source": [
    "# Evolution time\n",
    "t =  1\n",
    "num_qubits = 4\n",
    "# Instantiate the model ansatz\n",
    "depth = 1\n",
    "entangler_map = [[i+1, i] for i in range(num_qubits - 1)]\n",
    "ansatz = EfficientSU2(num_qubits, reps=depth, entanglement = entangler_map)"
   ]
  },
  {
   "cell_type": "code",
   "execution_count": 3,
   "metadata": {},
   "outputs": [],
   "source": [
    "# Define the model Hamiltonian\n",
    "H = SummedOp([0.3 * Z^Z^ I^I, 0.2 * Z^I^ I^I, - 0.5 * I ^ Z^ I^I])\n",
    "\n",
    "\n",
    "# Define the expectation value given the Hamiltonian as observable and the state generated by the Ansatz    \n",
    "op = ~StateFn(H) @ StateFn(ansatz)"
   ]
  },
  {
   "cell_type": "markdown",
   "metadata": {},
   "source": [
    "Change lines 87-88 in natural_gradient.py to\n",
    "\n",
    "```python\n",
    "if not isinstance(operator, CircuitStateFn) ^ (not isinstance(operator, ComposedOp) \\\n",
    "                  or not isinstance(operator[-1], CircuitStateFn)):\n",
    "```"
   ]
  },
  {
   "cell_type": "markdown",
   "metadata": {},
   "source": [
    "If you want to use a more generic loss function. Then uncommen the next "
   ]
  },
  {
   "cell_type": "code",
   "execution_count": 4,
   "metadata": {},
   "outputs": [],
   "source": [
    "# def combo_fn(x):\n",
    "#     # log-likelihood\n",
    "#     amplitudes = x[0].primitive.data\n",
    "#     pdf = np.multiply(amplitudes, np.conj(amplitudes))\n",
    "#     return np.sum(np.log(pdf))/(-len(amplitudes))\n",
    "\n",
    "# def grad_combo_fn(x):\n",
    "#     amplitudes = x[0].primitive.data\n",
    "#     pdf = np.multiply(amplitudes, np.conj(amplitudes))\n",
    "#     grad = []\n",
    "#     for p in pdf:\n",
    "#         grad += [-1/p]\n",
    "#     return grad\n",
    "\n",
    "# # qc = RealAmplitudes(2, reps=2)\n",
    "# # lambda x: jnp.sum(jnp.log(x))/(-len(x))\n",
    "# op = ListOp([StateFn(ansatz)], combo_fn=combo_fn, grad_combo_fn=grad_combo_fn)\n",
    "# # grad = Gradient().convert(grad_op, qc.ordered_parameters)"
   ]
  },
  {
   "cell_type": "markdown",
   "metadata": {},
   "source": [
    "#### Execute VarQITE\n",
    "Next, choose discretization of the time evolution, i.e., the number of time steps."
   ]
  },
  {
   "cell_type": "code",
   "execution_count": 5,
   "metadata": {},
   "outputs": [
    {
     "name": "stdout",
     "output_type": "stream",
     "text": [
      "Loss (3.9426030378122205-0j)\n",
      "Loss (3.043366144360328-0j)\n",
      "Loss (3.6861754107528037-0j)\n",
      "Loss (3.3402497655689762-0j)\n",
      "Loss (3.3128022079473243-0j)\n",
      "Loss (3.0120804948487394-0j)\n",
      "Loss (3.8854464044941306-0j)\n",
      "Loss (3.3724899035385865-0j)\n",
      "Loss (3.8483789739355667-0j)\n",
      "Loss (5.367714756893302-0j)\n",
      "Loss (3.875719133847667-0j)\n",
      "Loss (3.2373570799523286-0j)\n",
      "Loss (3.2161337576672033-0j)\n",
      "Loss (3.5360016462746815-0j)\n",
      "Loss (3.681414230745951-0j)\n",
      "Loss (3.161726700698442-0j)\n",
      "Loss (4.695546837020616-0j)\n",
      "Loss (3.352288191218965-0j)\n",
      "Loss (3.333934945366777-0j)\n",
      "Loss (2.8793586795989152-0j)\n"
     ]
    }
   ],
   "source": [
    "# Set the discretization grid of the time steps\n",
    "num_time_steps = 20\n",
    "time_steps = np.linspace(0, t, num_time_steps)\n",
    "\n",
    "# Convert the operator that holds the Hamiltonian and Ansatz using the NaturalGradient \n",
    "nat_grad = NaturalGradient(grad_method = 'lin_comb', regularization = 'ridge').convert(op, ansatz.ordered_parameters)\n",
    "\n",
    "# Initialize the Ansatz parameters\n",
    "param_values = np.random.rand(len(ansatz.ordered_parameters))\n",
    "\n",
    "# Propagate the Ansatz parameters step by step (here with explicit Euler)\n",
    "for step in time_steps:\n",
    "    param_dict = dict(zip(ansatz.ordered_parameters, param_values))\n",
    "    nat_grad_result = np.real(nat_grad.assign_parameters(param_dict).eval())\n",
    "    param_values = list(np.subtract(param_values, t/num_time_steps * np.real(nat_grad_result.flatten())))\n",
    "    print('Loss',\n",
    "          op.assign_parameters(dict(zip(ansatz.ordered_parameters, param_values))).eval())"
   ]
  },
  {
   "cell_type": "markdown",
   "metadata": {},
   "source": [
    "#### Training result\n",
    "Now, we can print the final parameters and use them to prepare an approximation to the evolved quantum state."
   ]
  },
  {
   "cell_type": "code",
   "execution_count": 6,
   "metadata": {},
   "outputs": [
    {
     "name": "stdout",
     "output_type": "stream",
     "text": [
      "Final values [67.38788241948362, -31.554818105679477, 0.9157960169834258, -14.715883212769462, 38.45392001081735, 22.142258055461756, -27.070529012925277, 3.292512489418368, -56.38939969196619, -64.44528424571533, 12.360114060738164, 10.898626772101657, 14.260054440691725, 6.424948513259233, -10.70431126890085, -5.042022567739451]\n"
     ]
    }
   ],
   "source": [
    "print('Final values', param_values)"
   ]
  },
  {
   "cell_type": "code",
   "execution_count": null,
   "metadata": {},
   "outputs": [],
   "source": []
  }
 ],
 "metadata": {
  "kernelspec": {
   "display_name": "QiskitDevenv",
   "language": "python",
   "name": "qiskitdevenv"
  },
  "language_info": {
   "codemirror_mode": {
    "name": "ipython",
    "version": 3
   },
   "file_extension": ".py",
   "mimetype": "text/x-python",
   "name": "python",
   "nbconvert_exporter": "python",
   "pygments_lexer": "ipython3",
   "version": "3.7.3"
  }
 },
 "nbformat": 4,
 "nbformat_minor": 2
}
