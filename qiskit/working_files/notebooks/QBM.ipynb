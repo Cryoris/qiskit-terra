{
 "cells": [
  {
   "cell_type": "markdown",
   "metadata": {
    "slideshow": {
     "slide_type": "slide"
    }
   },
   "source": [
    "## Variational Quantum Boltzmann Machine - Qiskit Implementation "
   ]
  },
  {
   "cell_type": "markdown",
   "metadata": {
    "slideshow": {
     "slide_type": "slide"
    }
   },
   "source": [
    "### Imports"
   ]
  },
  {
   "cell_type": "code",
   "execution_count": 23,
   "metadata": {
    "slideshow": {
     "slide_type": "-"
    }
   },
   "outputs": [],
   "source": [
    "# General Imports\n",
    "import numpy as np\n",
    "from scipy.linalg import expm\n",
    "\n",
    "# Execution Imports\n",
    "from qiskit import Aer\n",
    "from qiskit.aqua import QuantumInstance\n",
    "\n",
    "# Circuit Imports\n",
    "from qiskit.circuit.library import RealAmplitudes, EfficientSU2\n",
    "from qiskit.circuit import Parameter\n",
    "\n",
    "# Operator Imports\n",
    "from qiskit.aqua.operators import I, Z, StateFn, CircuitStateFn, SummedOp, CircuitSampler, Gradient, ListOp, QFI\n",
    "from qiskit.aqua.operators.gradients import NaturalGradient, DerivativeBase\n",
    "from qiskit.aqua.operators.gradients.circuit_qfis import LinCombFull\n",
    "from qiskit.aqua.operators.gradients.circuit_gradients import LinComb\n",
    "\n",
    "# Additional Imports\n",
    "from qiskit.quantum_info import state_fidelity, partial_trace, Statevector\n",
    "from qiskit.aqua.components.optimizers import SPSA, CG, ADAM, COBYLA"
   ]
  },
  {
   "cell_type": "markdown",
   "metadata": {
    "slideshow": {
     "slide_type": "slide"
    }
   },
   "source": [
    "## Gibbs state preparation"
   ]
  },
  {
   "cell_type": "markdown",
   "metadata": {
    "slideshow": {
     "slide_type": "subslide"
    }
   },
   "source": [
    "### Define the system parameters and initialize an Ansatz\n",
    "\n",
    "$\\rho^{Gibbs} = \\frac{e^H/{k_BT}}{Z}$"
   ]
  },
  {
   "cell_type": "code",
   "execution_count": 5,
   "metadata": {},
   "outputs": [],
   "source": [
    "# Temperature\n",
    "k_BT = 1\n",
    "\n",
    "# Evolution time\n",
    "t =  1/(2*k_BT)\n",
    "\n",
    "# Define the model Hamiltonian \n",
    "H = SummedOp([0.3 * Z^Z^ I^I, 0.2 * Z^I^ I^I,  0.5 * I^Z^ I^I]) "
   ]
  },
  {
   "cell_type": "markdown",
   "metadata": {
    "slideshow": {
     "slide_type": "subslide"
    }
   },
   "source": [
    "### Define the system parameters and initialize an Ansatz\n",
    "\n",
    "$\\rho^{Gibbs} = \\frac{e^H/{k_BT}}{Z}$"
   ]
  },
  {
   "cell_type": "code",
   "execution_count": 6,
   "metadata": {},
   "outputs": [],
   "source": [
    "# Instantiate the model ansatz\n",
    "depth = 1\n",
    "entangler_map = [[i+1, i] for i in range(H.num_qubits - 1)]\n",
    "ansatz = EfficientSU2(4, reps=depth, entanglement = entangler_map)\n",
    "qr = ansatz.qregs[0]\n",
    "for i in range(int(len(qr)/2)):\n",
    "    ansatz.cx(qr[i], qr[i+int(len(qr)/2)])\n",
    "    \n",
    "# Initialize the Ansatz parameters\n",
    "param_values_init = np.zeros(2* H.num_qubits * (depth + 1))\n",
    "for j in range(2 * H.num_qubits * depth, int(len(param_values_init) - H.num_qubits - 2)):\n",
    "    param_values_init[int(j)] = np.pi/2.\n",
    "    "
   ]
  },
  {
   "cell_type": "markdown",
   "metadata": {
    "slideshow": {
     "slide_type": "subslide"
    }
   },
   "source": [
    "#### Initial State\n",
    "\n",
    "The Ansatz $|\\psi\\left(\\omega\\left(\\tau\\right)\\right)\\rangle$ is initialized such that the first two qubits are in a maximally mixed state."
   ]
  },
  {
   "cell_type": "code",
   "execution_count": 7,
   "metadata": {
    "slideshow": {
     "slide_type": "-"
    }
   },
   "outputs": [
    {
     "name": "stdout",
     "output_type": "stream",
     "text": [
      "Initial parameters  [0.         0.         0.         0.         0.         0.\n",
      " 0.         0.         1.57079633 1.57079633 0.         0.\n",
      " 0.         0.         0.         0.        ]\n",
      "\n",
      " Circuit       ┌─────────┐┌─────────┐┌───┐┌──────────┐┌─────────┐                       »\n",
      "q_0: ┤ RY(0.0) ├┤ RZ(0.0) ├┤ X ├┤ RY(pi/2) ├┤ RZ(0.0) ├───────────────────────»\n",
      "     ├─────────┤├─────────┤└─┬─┘└──┬───┬───┘├─────────┴┐┌─────────┐           »\n",
      "q_1: ┤ RY(0.0) ├┤ RZ(0.0) ├──■─────┤ X ├────┤ RY(pi/2) ├┤ RZ(0.0) ├───────────»\n",
      "     ├─────────┤├─────────┤        └─┬─┘    └──┬───┬───┘├─────────┤┌─────────┐»\n",
      "q_2: ┤ RY(0.0) ├┤ RZ(0.0) ├──────────■─────────┤ X ├────┤ RY(0.0) ├┤ RZ(0.0) ├»\n",
      "     ├─────────┤├─────────┤                    └─┬─┘    ├─────────┤├─────────┤»\n",
      "q_3: ┤ RY(0.0) ├┤ RZ(0.0) ├──────────────────────■──────┤ RY(0.0) ├┤ RZ(0.0) ├»\n",
      "     └─────────┘└─────────┘                             └─────────┘└─────────┘»\n",
      "«               \n",
      "«q_0: ──■───────\n",
      "«       │       \n",
      "«q_1: ──┼────■──\n",
      "«     ┌─┴─┐  │  \n",
      "«q_2: ┤ X ├──┼──\n",
      "«     └───┘┌─┴─┐\n",
      "«q_3: ─────┤ X ├\n",
      "«          └───┘\n",
      "\n",
      " Full statevector  [0.5+0.j 0. +0.j 0. +0.j 0. +0.j 0. +0.j 0.5+0.j 0. +0.j 0. +0.j 0. +0.j\n",
      " 0. +0.j 0.5+0.j 0. +0.j 0. +0.j 0. +0.j 0. +0.j 0.5+0.j]\n",
      "\n",
      " Maximally mixed state [[0.25+0.j 0.  +0.j 0.  +0.j 0.  +0.j]\n",
      " [0.  +0.j 0.25+0.j 0.  +0.j 0.  +0.j]\n",
      " [0.  +0.j 0.  +0.j 0.25+0.j 0.  +0.j]\n",
      " [0.  +0.j 0.  +0.j 0.  +0.j 0.25+0.j]]\n"
     ]
    }
   ],
   "source": [
    "print('Initial parameters ', param_values_init)\n",
    "\n",
    "# Initial State\n",
    "\n",
    "print('\\n Circuit ', ansatz.assign_parameters(dict(zip(ansatz.ordered_parameters, param_values_init))))\n",
    "\n",
    "print('\\n Full statevector ', CircuitStateFn(ansatz.assign_parameters \\\n",
    "                                          (dict(zip(ansatz.ordered_parameters, param_values_init)))).eval().primitive.data)\n",
    "\n",
    "print('\\n Maximally mixed state', partial_trace(CircuitStateFn(ansatz.assign_parameters\\\n",
    "                        (dict(zip(ansatz.ordered_parameters, param_values_init)))).eval().primitive.data, [0, 1]).data)"
   ]
  },
  {
   "cell_type": "markdown",
   "metadata": {
    "slideshow": {
     "slide_type": "subslide"
    }
   },
   "source": [
    "#### Let's define the target observable consisting of the Ansatz and the Hamiltonian\n",
    "\n",
    "$$ \\langle \\psi\\left(\\omega\\left(\\tau\\right)\\right)|H|\\psi\\left(\\omega\\left(\\tau\\right)\\right)\\rangle $$"
   ]
  },
  {
   "cell_type": "code",
   "execution_count": 8,
   "metadata": {},
   "outputs": [
    {
     "name": "stdout",
     "output_type": "stream",
     "text": [
      "\n",
      " Energy expectation value of the initial state  0j\n"
     ]
    }
   ],
   "source": [
    "# Define the Hamiltonian as observable w.r.t. the wavefunction generated by the Ansatz   \n",
    "# Use statevector simulation\n",
    "ansatz_op = CircuitStateFn(ansatz)\n",
    "op = ~StateFn(H) @ ansatz_op\n",
    "\n",
    "print('\\n Energy expectation value of the initial state ', op.assign_parameters(dict(zip(ansatz.ordered_parameters, param_values_init))).eval())"
   ]
  },
  {
   "cell_type": "markdown",
   "metadata": {
    "slideshow": {
     "slide_type": "subslide"
    }
   },
   "source": [
    "#### Target state\n",
    "\n",
    "$\\rho^{target} = \\frac{e^{H\\otimes I}/{k_BT}}{Z}$"
   ]
  },
  {
   "cell_type": "code",
   "execution_count": 9,
   "metadata": {},
   "outputs": [
    {
     "name": "stdout",
     "output_type": "stream",
     "text": [
      "Target state  [[0.14517971+0.j 0.        +0.j 0.        +0.j 0.        +0.j]\n",
      " [0.        +0.j 0.32310338+0.j 0.        +0.j 0.        +0.j]\n",
      " [0.        +0.j 0.        +0.j 0.23936087+0.j 0.        +0.j]\n",
      " [0.        +0.j 0.        +0.j 0.        +0.j 0.29235603+0.j]]\n"
     ]
    }
   ],
   "source": [
    "# Compute the density matrix corresponding to the target Gibbs state\n",
    "h_mat = H.to_matrix()\n",
    "gibbs_target = expm(-h_mat*t) / np.trace(expm(-h_mat*t))\n",
    "gibbs_target = partial_trace(gibbs_target, [0, 1]).data\n",
    "\n",
    "print('Target state ', gibbs_target)"
   ]
  },
  {
   "cell_type": "markdown",
   "metadata": {
    "slideshow": {
     "slide_type": "slide"
    }
   },
   "source": [
    "### Define the parameter propagation rule according to McLachlan's variational principle"
   ]
  },
  {
   "cell_type": "code",
   "execution_count": 12,
   "metadata": {
    "slideshow": {
     "slide_type": "-"
    }
   },
   "outputs": [],
   "source": [
    "def get_gibbs_state_params(op, ansatz, param_values, time_steps):\n",
    "\n",
    "    # Convert the operator that holds the Hamiltonian and ansatz into a NaturalGradient operator \n",
    "    nat_grad = NaturalGradient(grad_method = 'lin_comb', regularization = 'ridge').convert(op, ansatz.ordered_parameters)\n",
    "\n",
    "    # Propagate the Ansatz parameters step by step according to the explicit Euler method\n",
    "    for step in time_steps:\n",
    "        param_dict = dict(zip(ansatz.ordered_parameters, param_values))\n",
    "        nat_grad_result = np.real(nat_grad.assign_parameters(param_dict).eval())\n",
    "        param_values = list(np.subtract(param_values, t/num_time_steps * np.real(nat_grad_result)))\n",
    "    return param_values\n"
   ]
  },
  {
   "cell_type": "markdown",
   "metadata": {
    "slideshow": {
     "slide_type": "slide"
    }
   },
   "source": [
    "### Run the parameter propagation"
   ]
  },
  {
   "cell_type": "code",
   "execution_count": 13,
   "metadata": {
    "scrolled": false
   },
   "outputs": [
    {
     "name": "stdout",
     "output_type": "stream",
     "text": [
      "Final parameter values [0.3748650466122236, -0.4353524791155647, -0.009065656466451948, -0.006839849634978346, -0.0033220810527533192, -0.002457020025064206, -0.0023036851404666255, -0.0023040331707213993, 1.9648329484865095, 1.7018832179912435, -0.009609253326270464, -0.008500319965978215, -0.011221011487478671, -0.011087023205375973, -0.0023059259135004067, -0.0023045517780853906]\n"
     ]
    }
   ],
   "source": [
    "# Define the discretization grid of the time steps\n",
    "num_time_steps = 10\n",
    "time_steps = np.linspace(0, t, num_time_steps)\n",
    "param_values = get_gibbs_state_params(op, ansatz, param_values_init, time_steps)\n",
    "    \n",
    "print('Final parameter values', param_values)"
   ]
  },
  {
   "cell_type": "markdown",
   "metadata": {
    "slideshow": {
     "slide_type": "slide"
    }
   },
   "source": [
    "#### Check the fidelity between trained and target state"
   ]
  },
  {
   "cell_type": "code",
   "execution_count": 14,
   "metadata": {},
   "outputs": [
    {
     "name": "stdout",
     "output_type": "stream",
     "text": [
      "Gibbs state  [[ 0.018-0.j  0.   -0.j -0.001+0.j -0.001+0.j]\n",
      " [ 0.   +0.j  0.499-0.j -0.002-0.j -0.004-0.j]\n",
      " [-0.001-0.j -0.002+0.j  0.151-0.j -0.004+0.j]\n",
      " [-0.001-0.j -0.004+0.j -0.004-0.j  0.332-0.j]]\n",
      "Target state  [[0.145+0.j 0.   +0.j 0.   +0.j 0.   +0.j]\n",
      " [0.   +0.j 0.323+0.j 0.   +0.j 0.   +0.j]\n",
      " [0.   +0.j 0.   +0.j 0.239+0.j 0.   +0.j]\n",
      " [0.   +0.j 0.   +0.j 0.   +0.j 0.292+0.j]]\n",
      "Fidelity between trained and target state  0.9098183229613624\n"
     ]
    }
   ],
   "source": [
    "# Compute the density matrix corresponding to the final Gibbs state    \n",
    "gibbs_state = Statevector.from_instruction(ansatz.assign_parameters(dict(zip(ansatz.ordered_parameters, param_values))))\n",
    "gibbs_state = partial_trace(gibbs_state, [0, 1])\n",
    "print('Gibbs state ', np.around(gibbs_state.data, 3))\n",
    "\n",
    "print('Target state ', np.around(gibbs_target.data, 3))\n",
    "\n",
    "# Evaluate the fidelity between the trained and the target state\n",
    "fidelity = state_fidelity(np.around(gibbs_target.data, 3), np.around(gibbs_state.data, 3), validate=False)\n",
    "\n",
    "print('Fidelity between trained and target state ', fidelity)"
   ]
  },
  {
   "cell_type": "markdown",
   "metadata": {
    "slideshow": {
     "slide_type": "slide"
    }
   },
   "source": [
    "## Train a generative QBM \n",
    "More explicitly, we train here a fully visible, diagonal, generative QBM using gradient-free optimization."
   ]
  },
  {
   "cell_type": "markdown",
   "metadata": {
    "slideshow": {
     "slide_type": "slide"
    }
   },
   "source": [
    "### Initialize a parameterized Hamiltonian and the target PDF"
   ]
  },
  {
   "cell_type": "code",
   "execution_count": 15,
   "metadata": {},
   "outputs": [],
   "source": [
    "a = Parameter('a')    \n",
    "b = Parameter('b')\n",
    "c = Parameter('c')  \n",
    "\n",
    "# Define the model Hamiltonian with parameters\n",
    "H = SummedOp([a * Z^Z^I^I, b * Z^I^ I ^ I, c * I ^ Z^ I ^ I]) \n",
    "\n",
    "H_coeffs = [a, b, c]\n",
    "\n",
    "# Define the target PDF\n",
    "p_target = [0.5, 0, 0, 0.5] "
   ]
  },
  {
   "cell_type": "markdown",
   "metadata": {},
   "source": [
    "#### Choose a backend"
   ]
  },
  {
   "cell_type": "code",
   "execution_count": 16,
   "metadata": {},
   "outputs": [],
   "source": [
    "backend = Aer.get_backend('qasm_simulator')\n",
    "qi = QuantumInstance(backend)"
   ]
  },
  {
   "cell_type": "code",
   "execution_count": 17,
   "metadata": {},
   "outputs": [],
   "source": [
    "# Compute the gradient of the QFI (A) w.r.t. the Hamiltonian coefficients\n",
    "def get_dH_qfi(qfi, params, dH_params):\n",
    "    dH_qfi = []\n",
    "    for i in range(len(H_coeffs)):\n",
    "        dH_qfi_term = []\n",
    "        for param_s in params:\n",
    "                dH_qfi_term += [dH_params[i] * Gradient(method='lin_comb').convert(qfi, param_s)]\n",
    "        dH_qfi.append(SummedOp(dH_qfi_term))\n",
    "    return ListOp(dH_qfi)"
   ]
  },
  {
   "cell_type": "code",
   "execution_count": 18,
   "metadata": {},
   "outputs": [],
   "source": [
    "# Compute the gradient of the energy (C) w.r.t. the Hamiltonian coefficients\n",
    "def get_dH_grad(grad, params, dH_params):\n",
    "    dH_grad = []\n",
    "    for i, coeff_i in enumerate(H_coeffs):\n",
    "        dH_grad_term = [Gradient().convert(grad, coeff_i)]\n",
    "        for param_s in params:\n",
    "                dH_grad_term += [dH_params[i] * Gradient(method='lin_comb').convert(grad, param_s)]\n",
    "        dH_grad.append(SummedOp(dH_grad_term))\n",
    "    return ListOp(dH_grad)"
   ]
  },
  {
   "cell_type": "code",
   "execution_count": 24,
   "metadata": {},
   "outputs": [],
   "source": [
    "# Prepare the Gibbs state and compute the gradient of the Ansatz parameters w.r.t. the \n",
    "# Hamiltonian coefficients while doing so\n",
    "\n",
    "def get_gibbs_autograd_qbm(op, ansatz, coeffs_values, param_values, time_steps):\n",
    "\n",
    "    # Convert the operator that holds the Hamiltonian and ansatz into a NaturalGradient operator \n",
    "    nat_grad = NaturalGradient(method = 'lin_comb', regularization = 'ridge').convert(op, ansatz.ordered_parameters)\n",
    "    qfi = QFI().convert(ansatz_op, ansatz.ordered_parameters)\n",
    "    grad = Gradient().convert(op, ansatz.ordered_parameters)\n",
    "    \n",
    "    # Get the time derivative of the the gradient of the Ansatz parameters w.r.t. the \n",
    "    # Hamiltonian coefficients\n",
    "    def get_dH_dt_params(A, dH_A, dH_C, dt_weights):\n",
    "        \"\"\"\n",
    "        Args:\n",
    "            A: operator described in arXiv:1804.03023\n",
    "            dH_A: derivative of A w.r.t. the Hamiltonian weights (parameters)\n",
    "            dH_C: derivative of C w.r.t. the Hamiltonian weights (parameters)\n",
    "\n",
    "        Returns: derivative of the Ansatz circuit's weights (parameters) w.r.t. the Hamiltonian weights (parameters)\n",
    "\n",
    "        \"\"\"\n",
    "        #QFI - A: kxk\n",
    "        #gradient of the energz - dH_C: kxj\n",
    "        #np.tensordot(dH_A, dt_weights): kxj - with dt_weights: kx1, dH_A: jxkxk\n",
    "        #k - num params in the VarForm used for VarQITE\n",
    "        #j - numb terms in the Hamiltonian = dim of the H params\n",
    "\n",
    "        temp = np.tensordot(dH_A, np.reshape(dt_weights, (len(dt_weights), 1)), axes=1)\n",
    "        temp = np.transpose(temp)\n",
    "        temp.shape = (np.shape(dH_C))\n",
    "\n",
    "        # Solve the respective SLE\n",
    "        if np.linalg.matrix_rank(A) >= 2 and np.linalg.cond(A) < 1000:\n",
    "            dH_dt_weights = np.linalg.solve(A, dH_C - temp)\n",
    "        else:\n",
    "            dH_dt_weights = NaturalGradient._regularized_sle_solver(A, dH_C - temp, regularization='ridge')\n",
    "\n",
    "        # print('dH dt weights', dH_dt_weights)\n",
    "        return dH_dt_weights\n",
    "    \n",
    "    dH_param_values = np.zeros((len(H.params), len(ansatz.ordered_parameters)))\n",
    "\n",
    "    # Propagate the Ansatz parameters step by step according to the explicit Euler method\n",
    "    for step in time_steps:\n",
    "        params_dict = {}\n",
    "        for i, coeff in enumerate([a, b, c]):\n",
    "            params_dict[coeff] = np.real(coeffs_values[i])\n",
    "        for j, param in enumerate(ansatz.ordered_parameters):\n",
    "            params_dict[param] = param_values[j]\n",
    "        # param_dict = dict(zip(ansatz.ordered_parameters, param_values))\n",
    "        sampler = CircuitSampler(backend=qi).convert(nat_grad, params_dict)\n",
    "        nat_grad_result = sampler.eval()[0]\n",
    "        # Or use the inefficient eval method\n",
    "        # nat_grad_result = nat_grad.assign_parameters(param_dict).eval()\n",
    "        \n",
    "        # \n",
    "        dH_qfi = get_dH_qfi(qfi, params, dH_param_values).assign_parameters()\n",
    "        sampler = CircuitSampler(backend=qi).convert(dH_qfi, params_dict)\n",
    "        dH_qfi_result = sampler.eval()[0]\n",
    "        dH_grad = get_dH_grad(grad, params, dH_param_values).assign_parameters().eval()\n",
    "        sampler = CircuitSampler(backend=qi).convert(dH_grad, params_dict)\n",
    "        dH_grad_result = sampler.eval()[0]\n",
    "        \n",
    "        sampler = CircuitSampler(backend=qi).convert(qfi, params_dict)\n",
    "        qfi_result = sampler.eval()[0]\n",
    "        \n",
    "        # Compute the time derivative of the gradient of the Ansatz parameters w.r.t. the Hamiltonian coefficients\n",
    "        dH_dt_param_values = get_dH_dt_params(qfi_result, dH_qfi_result, dH_grad_result, nat_grad_result)\n",
    "        \n",
    "        # Propagate the parameter values for one time step\n",
    "        param_values = list(np.subtract(param_values, t/num_time_steps * np.real(nat_grad_result)))\n",
    "        # Propagate the gradient of the parameter values for one time step\n",
    "        dH_param_values = list(np.subtract(dH_param_values, t/num_time_steps * np.real(dH_dt_param_values)))\n",
    "    return param_values, dH_param_values"
   ]
  },
  {
   "cell_type": "markdown",
   "metadata": {
    "slideshow": {
     "slide_type": "slide"
    }
   },
   "source": [
    "#### Define the loss function and the optimizer"
   ]
  },
  {
   "cell_type": "code",
   "execution_count": 28,
   "metadata": {},
   "outputs": [],
   "source": [
    "# Define the loss function\n",
    "def loss(H_coeffs):\n",
    "    H_op = H.assign_parameters(dict(zip([a, b, c], np.real(H_coeffs))))\n",
    "    \n",
    "    #Combine the measurement and ansatz operator\n",
    "    op = ~StateFn(H_op) @ ansatz_op\n",
    "    \n",
    "    #Prepare the Gibbs state\n",
    "    param_values = get_gibbs_state_params(op, ansatz, param_values_init, time_steps)    \n",
    "    # Use the circuit sampler to evaluate the pdf\n",
    "    sampler = CircuitSampler(backend=qi).convert(ansatz_op, dict(zip(ansatz.ordered_parameters, param_values)))\n",
    "    p_qbm = sampler.eval()[0].primitive\n",
    "    # Or use the inefficient eval method\n",
    "    # p_qbm = ansatz_op.assign_parameters(dict(zip(ansatz.ordered_parameters, param_values))).eval().primitive\n",
    "    p_qbm = np.diag(partial_trace(p_qbm, [0, 1]).data)\n",
    "    print('Trained probability ', p_qbm)\n",
    "    loss_fn = -np.sum(np.multiply(p_target, np.log(p_qbm)))\n",
    "    print('loss', loss_fn)\n",
    "    return np.real(loss_fn)"
   ]
  },
  {
   "cell_type": "code",
   "execution_count": 29,
   "metadata": {},
   "outputs": [],
   "source": [
    "from qiskit.aqua.operators.gradients import Gradient\n",
    "\n",
    "# Define the gradient of the loss function\n",
    "def grad_loss(coeffs_values):\n",
    "    #Combine the measurement and ansatz operator\n",
    "    op = ~StateFn(H_op) @ ansatz_op\n",
    "    \n",
    "    # Get the Ansatz parameters for the Gibbs state and get the gradient of the Ansatz parameters w.r.t. the\n",
    "    # Hamiltonian coefficients\n",
    "    param_values, dH_param_values = get_gibbs_autograd_qbm(op, ansatz, coeffs_values, param_values_init, time_steps)\n",
    "    # Use the circuit sampler to evaluate the pdf\n",
    "    sampler = CircuitSampler(backend=qi).convert(ansatz_op, dict(zip(ansatz.ordered_parameters, param_values)))\n",
    "    p_qbm = sampler.eval()[0].primitive\n",
    "    \n",
    "    # Or use the inefficient eval method\n",
    "    # p_qbm = ansatz_op.assign_parameters(dict(zip(ansatz.ordered_parameters, param_values))).eval().primitive\n",
    "    # Get the sampling probabilities w.r.t. the computation basis states from the Gibbs state\n",
    "    p_qbm = np.diag(partial_trace(p_qbm, [0, 1]).data)\n",
    "    print('Trained probability ', p_qbm)\n",
    "    p_qbm = [[min(p, 1e-6) for p in p_items] for p_items in p_qbm]\n",
    "    \n",
    "    # Get the function for the gradient of the sampling probabilities w.r.t. the Ansatz parameters\n",
    "    dparam_p_qbm_fn = Gradient(method = 'param_shift').gradient_wrapper(ansatz_op, ansatz.ordered_parameters, \n",
    "                                                                 backend = qi)\n",
    "    # Get the values for the gradient of the sampling probabilities w.r.t. the Ansatz parameters\n",
    "    dparam_p_qbm = dparam_p_qbm_fn(param_values)\n",
    "    \n",
    "    # Get the values for the gradient of the sampling probabilities w.r.t. the Hamiltonian coefficients\n",
    "    dH_p_qbm = np.tensordot(np.transpose(dH_param_values), dparam_p_qbm, axes=1).tolist()\n",
    "    # Get the values for the gradient of the loss function w.r.t. the Hamiltonian coefficients\n",
    "    try:\n",
    "        dH_loss = -np.tensordot(np.divide(dH_p_qbm, p_qbm), p_data, axes=1) # jx1\n",
    "    except Exception:\n",
    "        dH_loss = -np.tensordot(np.divide(dH_p_qbm, p_qbm), np.transpose(p_data), axes=1)\n",
    "    print('loss gradient ', dH_loss.flatten())\n",
    "    return dH_loss.flatten()"
   ]
  },
  {
   "cell_type": "markdown",
   "metadata": {
    "slideshow": {
     "slide_type": "slide"
    }
   },
   "source": [
    "### Train the QBM"
   ]
  },
  {
   "cell_type": "code",
   "execution_count": 31,
   "metadata": {
    "scrolled": false
   },
   "outputs": [
    {
     "ename": "TypeError",
     "evalue": "object of type 'numpy.float64' has no len()",
     "traceback": [
      "\u001b[1;31m---------------------------------------------------------------------------\u001b[0m",
      "\u001b[1;31mTypeError\u001b[0m                                 Traceback (most recent call last)",
      "\u001b[1;32m<ipython-input-31-336e28d1fc97>\u001b[0m in \u001b[0;36m<module>\u001b[1;34m\u001b[0m\n\u001b[0;32m      1\u001b[0m \u001b[0moptimizer\u001b[0m \u001b[1;33m=\u001b[0m \u001b[0mCG\u001b[0m\u001b[1;33m(\u001b[0m\u001b[0mmaxiter\u001b[0m \u001b[1;33m=\u001b[0m \u001b[1;36m50\u001b[0m\u001b[1;33m)\u001b[0m\u001b[1;33m\u001b[0m\u001b[1;33m\u001b[0m\u001b[0m\n\u001b[1;32m----> 2\u001b[1;33m \u001b[0mresult\u001b[0m \u001b[1;33m=\u001b[0m \u001b[0moptimizer\u001b[0m\u001b[1;33m.\u001b[0m\u001b[0moptimize\u001b[0m\u001b[1;33m(\u001b[0m\u001b[0mlen\u001b[0m\u001b[1;33m(\u001b[0m\u001b[0mH_coeffs\u001b[0m\u001b[1;33m)\u001b[0m\u001b[1;33m,\u001b[0m \u001b[0mloss\u001b[0m\u001b[1;33m,\u001b[0m \u001b[0mgradient_function\u001b[0m \u001b[1;33m=\u001b[0m \u001b[0mgrad_loss\u001b[0m\u001b[1;33m,\u001b[0m \u001b[0minitial_point\u001b[0m \u001b[1;33m=\u001b[0m \u001b[1;33m(\u001b[0m\u001b[1;33m[\u001b[0m\u001b[1;33m-\u001b[0m\u001b[1;36m2\u001b[0m \u001b[1;33m,\u001b[0m \u001b[1;36m.2\u001b[0m\u001b[1;33m,\u001b[0m \u001b[1;36m.5\u001b[0m\u001b[1;33m]\u001b[0m\u001b[1;33m)\u001b[0m\u001b[1;33m)\u001b[0m\u001b[1;33m\u001b[0m\u001b[1;33m\u001b[0m\u001b[0m\n\u001b[0m\u001b[0;32m      3\u001b[0m \u001b[0mprint\u001b[0m\u001b[1;33m(\u001b[0m\u001b[1;34m'Trained parameters '\u001b[0m\u001b[1;33m,\u001b[0m \u001b[0mresult\u001b[0m\u001b[1;33m[\u001b[0m\u001b[1;36m0\u001b[0m\u001b[1;33m]\u001b[0m\u001b[1;33m)\u001b[0m\u001b[1;33m\u001b[0m\u001b[1;33m\u001b[0m\u001b[0m\n",
      "\u001b[1;32mc:\\users\\hp\\documents\\github\\qiskit-aqua\\qiskit\\aqua\\components\\optimizers\\cg.py\u001b[0m in \u001b[0;36moptimize\u001b[1;34m(self, num_vars, objective_function, gradient_function, variable_bounds, initial_point)\u001b[0m\n\u001b[0;32m     79\u001b[0m                                                          self._max_evals_grouped))\n\u001b[0;32m     80\u001b[0m \u001b[1;33m\u001b[0m\u001b[0m\n\u001b[1;32m---> 81\u001b[1;33m         res = minimize(objective_function, initial_point, jac=gradient_function,\n\u001b[0m\u001b[0;32m     82\u001b[0m                        tol=self._tol, method=\"CG\", options=self._options)\n\u001b[0;32m     83\u001b[0m         \u001b[1;32mreturn\u001b[0m \u001b[0mres\u001b[0m\u001b[1;33m.\u001b[0m\u001b[0mx\u001b[0m\u001b[1;33m,\u001b[0m \u001b[0mres\u001b[0m\u001b[1;33m.\u001b[0m\u001b[0mfun\u001b[0m\u001b[1;33m,\u001b[0m \u001b[0mres\u001b[0m\u001b[1;33m.\u001b[0m\u001b[0mnfev\u001b[0m\u001b[1;33m\u001b[0m\u001b[1;33m\u001b[0m\u001b[0m\n",
      "\u001b[1;32m~\\anaconda3\\envs\\qiskit\\lib\\site-packages\\scipy\\optimize\\_minimize.py\u001b[0m in \u001b[0;36mminimize\u001b[1;34m(fun, x0, args, method, jac, hess, hessp, bounds, constraints, tol, callback, options)\u001b[0m\n\u001b[0;32m    608\u001b[0m         \u001b[1;32mreturn\u001b[0m \u001b[0m_minimize_powell\u001b[0m\u001b[1;33m(\u001b[0m\u001b[0mfun\u001b[0m\u001b[1;33m,\u001b[0m \u001b[0mx0\u001b[0m\u001b[1;33m,\u001b[0m \u001b[0margs\u001b[0m\u001b[1;33m,\u001b[0m \u001b[0mcallback\u001b[0m\u001b[1;33m,\u001b[0m \u001b[0mbounds\u001b[0m\u001b[1;33m,\u001b[0m \u001b[1;33m**\u001b[0m\u001b[0moptions\u001b[0m\u001b[1;33m)\u001b[0m\u001b[1;33m\u001b[0m\u001b[1;33m\u001b[0m\u001b[0m\n\u001b[0;32m    609\u001b[0m     \u001b[1;32melif\u001b[0m \u001b[0mmeth\u001b[0m \u001b[1;33m==\u001b[0m \u001b[1;34m'cg'\u001b[0m\u001b[1;33m:\u001b[0m\u001b[1;33m\u001b[0m\u001b[1;33m\u001b[0m\u001b[0m\n\u001b[1;32m--> 610\u001b[1;33m         \u001b[1;32mreturn\u001b[0m \u001b[0m_minimize_cg\u001b[0m\u001b[1;33m(\u001b[0m\u001b[0mfun\u001b[0m\u001b[1;33m,\u001b[0m \u001b[0mx0\u001b[0m\u001b[1;33m,\u001b[0m \u001b[0margs\u001b[0m\u001b[1;33m,\u001b[0m \u001b[0mjac\u001b[0m\u001b[1;33m,\u001b[0m \u001b[0mcallback\u001b[0m\u001b[1;33m,\u001b[0m \u001b[1;33m**\u001b[0m\u001b[0moptions\u001b[0m\u001b[1;33m)\u001b[0m\u001b[1;33m\u001b[0m\u001b[1;33m\u001b[0m\u001b[0m\n\u001b[0m\u001b[0;32m    611\u001b[0m     \u001b[1;32melif\u001b[0m \u001b[0mmeth\u001b[0m \u001b[1;33m==\u001b[0m \u001b[1;34m'bfgs'\u001b[0m\u001b[1;33m:\u001b[0m\u001b[1;33m\u001b[0m\u001b[1;33m\u001b[0m\u001b[0m\n\u001b[0;32m    612\u001b[0m         \u001b[1;32mreturn\u001b[0m \u001b[0m_minimize_bfgs\u001b[0m\u001b[1;33m(\u001b[0m\u001b[0mfun\u001b[0m\u001b[1;33m,\u001b[0m \u001b[0mx0\u001b[0m\u001b[1;33m,\u001b[0m \u001b[0margs\u001b[0m\u001b[1;33m,\u001b[0m \u001b[0mjac\u001b[0m\u001b[1;33m,\u001b[0m \u001b[0mcallback\u001b[0m\u001b[1;33m,\u001b[0m \u001b[1;33m**\u001b[0m\u001b[0moptions\u001b[0m\u001b[1;33m)\u001b[0m\u001b[1;33m\u001b[0m\u001b[1;33m\u001b[0m\u001b[0m\n",
      "\u001b[1;32m~\\anaconda3\\envs\\qiskit\\lib\\site-packages\\scipy\\optimize\\optimize.py\u001b[0m in \u001b[0;36m_minimize_cg\u001b[1;34m(fun, x0, args, jac, callback, gtol, norm, eps, maxiter, disp, return_all, finite_diff_rel_step, **unknown_options)\u001b[0m\n\u001b[0;32m   1421\u001b[0m         \u001b[0mmaxiter\u001b[0m \u001b[1;33m=\u001b[0m \u001b[0mlen\u001b[0m\u001b[1;33m(\u001b[0m\u001b[0mx0\u001b[0m\u001b[1;33m)\u001b[0m \u001b[1;33m*\u001b[0m \u001b[1;36m200\u001b[0m\u001b[1;33m\u001b[0m\u001b[1;33m\u001b[0m\u001b[0m\n\u001b[0;32m   1422\u001b[0m \u001b[1;33m\u001b[0m\u001b[0m\n\u001b[1;32m-> 1423\u001b[1;33m     sf = _prepare_scalar_function(fun, x0, jac=jac, args=args, epsilon=eps,\n\u001b[0m\u001b[0;32m   1424\u001b[0m                                   finite_diff_rel_step=finite_diff_rel_step)\n\u001b[0;32m   1425\u001b[0m \u001b[1;33m\u001b[0m\u001b[0m\n",
      "\u001b[1;32m~\\anaconda3\\envs\\qiskit\\lib\\site-packages\\scipy\\optimize\\optimize.py\u001b[0m in \u001b[0;36m_prepare_scalar_function\u001b[1;34m(fun, x0, jac, args, bounds, epsilon, finite_diff_rel_step, hess)\u001b[0m\n\u001b[0;32m    259\u001b[0m     \u001b[1;31m# ScalarFunction caches. Reuse of fun(x) during grad\u001b[0m\u001b[1;33m\u001b[0m\u001b[1;33m\u001b[0m\u001b[1;33m\u001b[0m\u001b[0m\n\u001b[0;32m    260\u001b[0m     \u001b[1;31m# calculation reduces overall function evaluations.\u001b[0m\u001b[1;33m\u001b[0m\u001b[1;33m\u001b[0m\u001b[1;33m\u001b[0m\u001b[0m\n\u001b[1;32m--> 261\u001b[1;33m     sf = ScalarFunction(fun, x0, args, grad, hess,\n\u001b[0m\u001b[0;32m    262\u001b[0m                         finite_diff_rel_step, bounds, epsilon=epsilon)\n\u001b[0;32m    263\u001b[0m \u001b[1;33m\u001b[0m\u001b[0m\n",
      "\u001b[1;32m~\\anaconda3\\envs\\qiskit\\lib\\site-packages\\scipy\\optimize\\_differentiable_functions.py\u001b[0m in \u001b[0;36m__init__\u001b[1;34m(self, fun, x0, args, grad, hess, finite_diff_rel_step, finite_diff_bounds, epsilon)\u001b[0m\n\u001b[0;32m     74\u001b[0m \u001b[1;33m\u001b[0m\u001b[0m\n\u001b[0;32m     75\u001b[0m         \u001b[0mself\u001b[0m\u001b[1;33m.\u001b[0m\u001b[0m_update_fun_impl\u001b[0m \u001b[1;33m=\u001b[0m \u001b[0mupdate_fun\u001b[0m\u001b[1;33m\u001b[0m\u001b[1;33m\u001b[0m\u001b[0m\n\u001b[1;32m---> 76\u001b[1;33m         \u001b[0mself\u001b[0m\u001b[1;33m.\u001b[0m\u001b[0m_update_fun\u001b[0m\u001b[1;33m(\u001b[0m\u001b[1;33m)\u001b[0m\u001b[1;33m\u001b[0m\u001b[1;33m\u001b[0m\u001b[0m\n\u001b[0m\u001b[0;32m     77\u001b[0m \u001b[1;33m\u001b[0m\u001b[0m\n\u001b[0;32m     78\u001b[0m         \u001b[1;31m# Gradient evaluation\u001b[0m\u001b[1;33m\u001b[0m\u001b[1;33m\u001b[0m\u001b[1;33m\u001b[0m\u001b[0m\n",
      "\u001b[1;32m~\\anaconda3\\envs\\qiskit\\lib\\site-packages\\scipy\\optimize\\_differentiable_functions.py\u001b[0m in \u001b[0;36m_update_fun\u001b[1;34m(self)\u001b[0m\n\u001b[0;32m    164\u001b[0m     \u001b[1;32mdef\u001b[0m \u001b[0m_update_fun\u001b[0m\u001b[1;33m(\u001b[0m\u001b[0mself\u001b[0m\u001b[1;33m)\u001b[0m\u001b[1;33m:\u001b[0m\u001b[1;33m\u001b[0m\u001b[1;33m\u001b[0m\u001b[0m\n\u001b[0;32m    165\u001b[0m         \u001b[1;32mif\u001b[0m \u001b[1;32mnot\u001b[0m \u001b[0mself\u001b[0m\u001b[1;33m.\u001b[0m\u001b[0mf_updated\u001b[0m\u001b[1;33m:\u001b[0m\u001b[1;33m\u001b[0m\u001b[1;33m\u001b[0m\u001b[0m\n\u001b[1;32m--> 166\u001b[1;33m             \u001b[0mself\u001b[0m\u001b[1;33m.\u001b[0m\u001b[0m_update_fun_impl\u001b[0m\u001b[1;33m(\u001b[0m\u001b[1;33m)\u001b[0m\u001b[1;33m\u001b[0m\u001b[1;33m\u001b[0m\u001b[0m\n\u001b[0m\u001b[0;32m    167\u001b[0m             \u001b[0mself\u001b[0m\u001b[1;33m.\u001b[0m\u001b[0mf_updated\u001b[0m \u001b[1;33m=\u001b[0m \u001b[1;32mTrue\u001b[0m\u001b[1;33m\u001b[0m\u001b[1;33m\u001b[0m\u001b[0m\n\u001b[0;32m    168\u001b[0m \u001b[1;33m\u001b[0m\u001b[0m\n",
      "\u001b[1;32m~\\anaconda3\\envs\\qiskit\\lib\\site-packages\\scipy\\optimize\\_differentiable_functions.py\u001b[0m in \u001b[0;36mupdate_fun\u001b[1;34m()\u001b[0m\n\u001b[0;32m     71\u001b[0m \u001b[1;33m\u001b[0m\u001b[0m\n\u001b[0;32m     72\u001b[0m         \u001b[1;32mdef\u001b[0m \u001b[0mupdate_fun\u001b[0m\u001b[1;33m(\u001b[0m\u001b[1;33m)\u001b[0m\u001b[1;33m:\u001b[0m\u001b[1;33m\u001b[0m\u001b[1;33m\u001b[0m\u001b[0m\n\u001b[1;32m---> 73\u001b[1;33m             \u001b[0mself\u001b[0m\u001b[1;33m.\u001b[0m\u001b[0mf\u001b[0m \u001b[1;33m=\u001b[0m \u001b[0mfun_wrapped\u001b[0m\u001b[1;33m(\u001b[0m\u001b[0mself\u001b[0m\u001b[1;33m.\u001b[0m\u001b[0mx\u001b[0m\u001b[1;33m)\u001b[0m\u001b[1;33m\u001b[0m\u001b[1;33m\u001b[0m\u001b[0m\n\u001b[0m\u001b[0;32m     74\u001b[0m \u001b[1;33m\u001b[0m\u001b[0m\n\u001b[0;32m     75\u001b[0m         \u001b[0mself\u001b[0m\u001b[1;33m.\u001b[0m\u001b[0m_update_fun_impl\u001b[0m \u001b[1;33m=\u001b[0m \u001b[0mupdate_fun\u001b[0m\u001b[1;33m\u001b[0m\u001b[1;33m\u001b[0m\u001b[0m\n",
      "\u001b[1;32m~\\anaconda3\\envs\\qiskit\\lib\\site-packages\\scipy\\optimize\\_differentiable_functions.py\u001b[0m in \u001b[0;36mfun_wrapped\u001b[1;34m(x)\u001b[0m\n\u001b[0;32m     68\u001b[0m         \u001b[1;32mdef\u001b[0m \u001b[0mfun_wrapped\u001b[0m\u001b[1;33m(\u001b[0m\u001b[0mx\u001b[0m\u001b[1;33m)\u001b[0m\u001b[1;33m:\u001b[0m\u001b[1;33m\u001b[0m\u001b[1;33m\u001b[0m\u001b[0m\n\u001b[0;32m     69\u001b[0m             \u001b[0mself\u001b[0m\u001b[1;33m.\u001b[0m\u001b[0mnfev\u001b[0m \u001b[1;33m+=\u001b[0m \u001b[1;36m1\u001b[0m\u001b[1;33m\u001b[0m\u001b[1;33m\u001b[0m\u001b[0m\n\u001b[1;32m---> 70\u001b[1;33m             \u001b[1;32mreturn\u001b[0m \u001b[0mfun\u001b[0m\u001b[1;33m(\u001b[0m\u001b[0mx\u001b[0m\u001b[1;33m,\u001b[0m \u001b[1;33m*\u001b[0m\u001b[0margs\u001b[0m\u001b[1;33m)\u001b[0m\u001b[1;33m\u001b[0m\u001b[1;33m\u001b[0m\u001b[0m\n\u001b[0m\u001b[0;32m     71\u001b[0m \u001b[1;33m\u001b[0m\u001b[0m\n\u001b[0;32m     72\u001b[0m         \u001b[1;32mdef\u001b[0m \u001b[0mupdate_fun\u001b[0m\u001b[1;33m(\u001b[0m\u001b[1;33m)\u001b[0m\u001b[1;33m:\u001b[0m\u001b[1;33m\u001b[0m\u001b[1;33m\u001b[0m\u001b[0m\n",
      "\u001b[1;32m<ipython-input-28-6b64af28220b>\u001b[0m in \u001b[0;36mloss\u001b[1;34m(H_coeffs)\u001b[0m\n\u001b[0;32m      9\u001b[0m     \u001b[0mparam_values\u001b[0m \u001b[1;33m=\u001b[0m \u001b[0mget_gibbs_state_params\u001b[0m\u001b[1;33m(\u001b[0m\u001b[0mop\u001b[0m\u001b[1;33m,\u001b[0m \u001b[0mansatz\u001b[0m\u001b[1;33m,\u001b[0m \u001b[0mparam_values_init\u001b[0m\u001b[1;33m,\u001b[0m \u001b[0mtime_steps\u001b[0m\u001b[1;33m)\u001b[0m\u001b[1;33m\u001b[0m\u001b[1;33m\u001b[0m\u001b[0m\n\u001b[0;32m     10\u001b[0m     \u001b[1;31m# Use the circuit sampler to evaluate the pdf\u001b[0m\u001b[1;33m\u001b[0m\u001b[1;33m\u001b[0m\u001b[1;33m\u001b[0m\u001b[0m\n\u001b[1;32m---> 11\u001b[1;33m     \u001b[0msampler\u001b[0m \u001b[1;33m=\u001b[0m \u001b[0mCircuitSampler\u001b[0m\u001b[1;33m(\u001b[0m\u001b[0mbackend\u001b[0m\u001b[1;33m=\u001b[0m\u001b[0mqi\u001b[0m\u001b[1;33m)\u001b[0m\u001b[1;33m.\u001b[0m\u001b[0mconvert\u001b[0m\u001b[1;33m(\u001b[0m\u001b[0mansatz_op\u001b[0m\u001b[1;33m,\u001b[0m \u001b[0mdict\u001b[0m\u001b[1;33m(\u001b[0m\u001b[0mzip\u001b[0m\u001b[1;33m(\u001b[0m\u001b[0mansatz\u001b[0m\u001b[1;33m.\u001b[0m\u001b[0mordered_parameters\u001b[0m\u001b[1;33m,\u001b[0m \u001b[0mparam_values\u001b[0m\u001b[1;33m)\u001b[0m\u001b[1;33m)\u001b[0m\u001b[1;33m)\u001b[0m\u001b[1;33m\u001b[0m\u001b[1;33m\u001b[0m\u001b[0m\n\u001b[0m\u001b[0;32m     12\u001b[0m     \u001b[0mp_qbm\u001b[0m \u001b[1;33m=\u001b[0m \u001b[0msampler\u001b[0m\u001b[1;33m.\u001b[0m\u001b[0meval\u001b[0m\u001b[1;33m(\u001b[0m\u001b[1;33m)\u001b[0m\u001b[1;33m[\u001b[0m\u001b[1;36m0\u001b[0m\u001b[1;33m]\u001b[0m\u001b[1;33m.\u001b[0m\u001b[0mprimitive\u001b[0m\u001b[1;33m\u001b[0m\u001b[1;33m\u001b[0m\u001b[0m\n\u001b[0;32m     13\u001b[0m     \u001b[1;31m# Or use the inefficient eval method\u001b[0m\u001b[1;33m\u001b[0m\u001b[1;33m\u001b[0m\u001b[1;33m\u001b[0m\u001b[0m\n",
      "\u001b[1;32mc:\\users\\hp\\documents\\github\\qiskit-aqua\\qiskit\\aqua\\operators\\converters\\circuit_sampler.py\u001b[0m in \u001b[0;36mconvert\u001b[1;34m(self, operator, params)\u001b[0m\n\u001b[0;32m    185\u001b[0m         \u001b[1;32mif\u001b[0m \u001b[0mparams\u001b[0m\u001b[1;33m:\u001b[0m\u001b[1;33m\u001b[0m\u001b[1;33m\u001b[0m\u001b[0m\n\u001b[0;32m    186\u001b[0m             \u001b[0mp_0\u001b[0m \u001b[1;33m=\u001b[0m \u001b[0mlist\u001b[0m\u001b[1;33m(\u001b[0m\u001b[0mparams\u001b[0m\u001b[1;33m.\u001b[0m\u001b[0mvalues\u001b[0m\u001b[1;33m(\u001b[0m\u001b[1;33m)\u001b[0m\u001b[1;33m)\u001b[0m\u001b[1;33m[\u001b[0m\u001b[1;36m0\u001b[0m\u001b[1;33m]\u001b[0m  \u001b[1;31m# type: ignore\u001b[0m\u001b[1;33m\u001b[0m\u001b[1;33m\u001b[0m\u001b[0m\n\u001b[1;32m--> 187\u001b[1;33m             \u001b[0mnum_parameterizations\u001b[0m \u001b[1;33m=\u001b[0m \u001b[0mlen\u001b[0m\u001b[1;33m(\u001b[0m\u001b[0mcast\u001b[0m\u001b[1;33m(\u001b[0m\u001b[0mList\u001b[0m\u001b[1;33m,\u001b[0m \u001b[0mp_0\u001b[0m\u001b[1;33m)\u001b[0m\u001b[1;33m)\u001b[0m\u001b[1;33m\u001b[0m\u001b[1;33m\u001b[0m\u001b[0m\n\u001b[0m\u001b[0;32m    188\u001b[0m             param_bindings = [{param: value_list[i]  # type: ignore\n\u001b[0;32m    189\u001b[0m                                for (param, value_list) in params.items()}\n",
      "\u001b[1;31mTypeError\u001b[0m: object of type 'numpy.float64' has no len()"
     ],
     "output_type": "error"
    }
   ],
   "source": [
    "optimizer = CG(maxiter = 50)\n",
    "result = optimizer.optimize(len(H_coeffs), loss, gradient_function=grad_loss, initial_point=([-2 , .2, .5]))\n",
    "print('Trained parameters ', result[0])"
   ]
  },
  {
   "cell_type": "code",
   "execution_count": null,
   "metadata": {
    "slideshow": {
     "slide_type": "slide"
    }
   },
   "outputs": [],
   "source": [
    "#Construct the Hamiltonian with the final parameterw\n",
    "H_op = H.assign_parameters(dict(zip(H_coeffs, [-1.29810568, -0.04292338,  0.1362023])))\n",
    "\n",
    "#Combine the measurement and ansatz operator\n",
    "op = ~StateFn(H_op) @ ansatz_op\n",
    "\n",
    "#Prepare the Gibbs state\n",
    "param_values = get_gibbs_state_params(op, ansatz, param_values_init, time_steps)\n",
    "\n",
    "# Get the sampling probabilities\n",
    "p_qbm = ansatz_op.assign_parameters(dict(zip(ansatz.ordered_parameters, param_values))).eval().primitive\n",
    "p_qbm = np.diag(partial_trace(p_qbm, [0, 1]).data)\n",
    "\n",
    "# Evaluate the l1 norm between the trained and the target state\n",
    "norm = np.linalg.norm(p_target-p_qbm, ord = 1)\n",
    "\n",
    "print('L1-norm between trained and target distributions ', norm)"
   ]
  },
  {
   "cell_type": "code",
   "execution_count": null,
   "metadata": {},
   "outputs": [],
   "source": [
    "print(p_qbm)"
   ]
  },
  {
   "cell_type": "code",
   "execution_count": null,
   "metadata": {
    "slideshow": {
     "slide_type": "skip"
    }
   },
   "outputs": [],
   "source": [
    "a = Parameter('a')    \n",
    "b = Parameter('b')\n",
    "c = Parameter('c')  \n",
    "\n",
    "# Define the model Hamiltonian with parameters\n",
    "H = (a * Z^Z + b * Z^I - c * I ^ Z) ^ I ^ I\n",
    "\n",
    "# Define the target PDF\n",
    "p_target = [0.5, 0, 0, 0.5] \n",
    "\n",
    "# Use statevector simulation\n",
    "ansatz_op = CircuitStateFn(qc = ansatz)\n",
    "p_qbm = ansatz_op.assign_parameter(dict(zip(ansatz.ordered_parameters, param_values))).eval()\n",
    "\n",
    "\n",
    "loss = -np.sum(np.multiply(p_target, np.log(p_qbm)))\n",
    "\n",
    "domega_p_qbm = Gradient().convert(op = ansatz_op, params = ansatz.ordered_parameters, method = 'lin_comb')\n",
    "\n",
    "qfi = QFI().convert(op = ansatz_op, params = ansatz.ordered_parameters)\n",
    "from  qiskit.aqua.operator.gradients.gradient.natural_gradient import regularized_sle_solver\n",
    "\n",
    "dH_omega = regularized_sle_solver(qfi * 0.25, dH_C - dH_A*nat_grad_result, regularization = 'ridge')\n",
    "\n",
    "dH_p_qbm = domega_p_qbm * dH_omega\n",
    "\n",
    "dH_loss = -np.tensordot(np.divide(dH_p_qbm, p_qbm), [p_target], axes=1)"
   ]
  },
  {
   "cell_type": "code",
   "execution_count": null,
   "metadata": {},
   "outputs": [],
   "source": [
    "# def get_dH_qfi(qfi, params, dH_params):\n",
    "#     def get_state_exp(state, param_s, exp=1):\n",
    "#         state_qc = state.primitive\n",
    "#         for qreg in state_qc.qregs:\n",
    "#             if qreg.name == 'work_qubit':\n",
    "#                 qr_work = qreg\n",
    "#                 work_q = qreg[0]\n",
    "#         param_s_gates = state_qc._parameter_table[param_s]\n",
    "#         for m, param_occurence in enumerate(param_gates):\n",
    "#             coeffs_s, gates_s = LinComb._gate_gradient_dict(param_occurence[0])[\n",
    "#                 param_occurence[1]]\n",
    "#             if exp == 2:\n",
    "#                 coeffs_s = np.conj(coeffs_s)\n",
    "#             for k, gate_to_insert_s in enumerate(gates_s):\n",
    "#                 grad_state = QuantumCircuit(*state_qc.qregs, qr_work)\n",
    "#                 grad_state.data = state_qc.data\n",
    "# \n",
    "#                 # apply Hadamard on work_q\n",
    "#                 LinComb.insert_gate(grad_state, param_occurence[0], HGate(),\n",
    "#                                     qubits=[work_q])\n",
    "#                 # Fix work_q phase\n",
    "#                 coeff_s = coeffs_s[k]\n",
    "#                 sign = np.sign(coeff_s)\n",
    "#                 is_complex = np.iscomplex(coeff_s)\n",
    "#                 if sign == -1:\n",
    "#                     if is_complex:\n",
    "#                         LinComb.insert_gate(grad_state,\n",
    "#                                             param_occurence[0],\n",
    "#                                             SdgGate(),\n",
    "#                                             qubits=[work_q])\n",
    "#                     else:\n",
    "#                         LinComb.insert_gate(grad_state,\n",
    "#                                             param_occurence[0],\n",
    "#                                             ZGate(),\n",
    "#                                             qubits=[work_q])\n",
    "#                 else:\n",
    "#                     if is_complex:\n",
    "#                         LinComb.insert_gate(grad_state,\n",
    "#                                             param_occurence[0],\n",
    "#                                             SGate(),\n",
    "#                                             qubits=[work_q])\n",
    "# \n",
    "#                 # Insert controlled, intercepting gate - controlled by |0>\n",
    "#                 if exp == 2:\n",
    "#                     LinComb.insert_gate(grad_state, param_occurence[0],\n",
    "#                                     XGate(), qubits=[work_qubit], after=False)\n",
    "# \n",
    "#                 if isinstance(param_occurence[0], UGate):\n",
    "#                     if param_occurence[1] == 0:\n",
    "#                         LinComb.insert_gate(grad_state, param_occurence[0],\n",
    "#                                             RZGate(param_occurence[0].params[2]))\n",
    "#                         LinComb.insert_gate(grad_state, param_occurence[0],\n",
    "#                                             RXGate(np.pi / 2))\n",
    "#                         LinComb.insert_gate(grad_state, param_occurence[0],\n",
    "#                                             gate_to_insert_i,\n",
    "#                                             additional_qubits=additional_qubits)\n",
    "#                         LinComb.insert_gate(grad_state, param_occurence[0],\n",
    "#                                             RXGate(-np.pi / 2))\n",
    "#                         LinComb.insert_gate(grad_state, param_occurence[0],\n",
    "#                                             RZGate(-param_occurence[0].params[2]))\n",
    "# \n",
    "#                     elif param_occurence[1] == 1:\n",
    "#                         LinComb.insert_gate(grad_state, param_occurence[0],\n",
    "#                                             gate_to_insert_i, after=True,\n",
    "#                                             additional_qubits=additional_qubits)\n",
    "#                     else:\n",
    "#                         LinComb.insert_gate(grad_state, param_occurence[0],\n",
    "#                                             gate_to_insert_i,\n",
    "#                                             additional_qubits=additional_qubits)\n",
    "#                 else:\n",
    "#                     LinComb.insert_gate(grad_state, param_occurence[0],\n",
    "#                                         gate_to_insert_i,\n",
    "#                                         additional_qubits=additional_qubits)\n",
    "#                 if exp == 2:\n",
    "#                     LinComb.insert_gate(grad_state, param_occurence[0],\n",
    "#                                     XGate(), qubits=[work_qubit], after=True)\n",
    "# \n",
    "#                 grad_state = LinCombFull.trim_circuit(grad_state, param_occurence[0])\n",
    "# \n",
    "#                 grad_state.h(work_q)\n",
    "# \n",
    "#                 state = np.sqrt(np.abs(coeff_s)) * state.coeff * CircuitStateFn(grad_state)\n",
    "# \n",
    "#                 # Chain Rule parameter expressions\n",
    "#                 gate_param = param_occurence[0].params[param_occurence[1]]\n",
    "#                 if gate_param == param:\n",
    "#                     state = phase_fix_observable @ state\n",
    "#                 else:\n",
    "#                     if isinstance(gate_param, ParameterExpression):\n",
    "#                         expr_grad = DerivativeBase.parameter_expression_grad(gate_param, param)\n",
    "#                         state = (expr_grad * phase_fix_observable) @ state\n",
    "#                     else:\n",
    "#                         state *= 0\n",
    "# \n",
    "#                 if m == 0 and k == 0:\n",
    "#                     exp_state = state\n",
    "#                 else:\n",
    "#                     exp_state += state\n",
    "#         if not phase_fix_states:\n",
    "#             exp_states = [exp_state]\n",
    "#         else:\n",
    "#             exp_states += [exp_state]\n",
    "# \n",
    "#     # Return the composed states\n",
    "#     return ListOp(exp_states)\n",
    "# \n",
    "# \n",
    "#     dH_qfi = []\n",
    "#     for coeff_i in H_coeffs:\n",
    "#         dH_qfi_term = []\n",
    "#         for param_s in params:\n",
    "#             for operators in qfi.oplist:\n",
    "#                 for operator in operators:\n",
    "#                     if isinstance(operator, ComposedOp):\n",
    "#                         meas = operator[0]\n",
    "#                         state = operator[1]\n",
    "#                         exp1 = meas @ get_state_exp(state, param_s)\n",
    "#                         exp2 = meas @ get_state_exp(state, param_s, exp=2)\n",
    "#                         dH_qfi_term += [dH_params * (exp1 + exp2)]\n",
    "#         dH_qfi.append(SummedOp(dH_qfi_term))\n",
    "#     return ListOp(dH_qfi)\n"
   ]
  }
 ],
 "metadata": {
  "celltoolbar": "Slideshow",
  "kernelspec": {
   "display_name": "qiskit",
   "language": "python",
   "name": "qiskit"
  },
  "language_info": {
   "codemirror_mode": {
    "name": "ipython",
    "version": 3
   },
   "file_extension": ".py",
   "mimetype": "text/x-python",
   "name": "python",
   "nbconvert_exporter": "python",
   "pygments_lexer": "ipython3",
   "version": "3.8.5"
  }
 },
 "nbformat": 4,
 "nbformat_minor": 2
}
