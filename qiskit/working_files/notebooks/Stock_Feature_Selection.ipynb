{
 "cells": [
  {
   "cell_type": "markdown",
   "metadata": {},
   "source": [
    "# Optimal Feature Selection with Qiskit (Finance Data)"
   ]
  },
  {
   "cell_type": "code",
   "execution_count": 2,
   "metadata": {},
   "outputs": [],
   "source": [
    "from sklearn.datasets import load_boston\n",
    "from sklearn.feature_selection import RFE\n",
    "from sklearn.linear_model import LinearRegression\n",
    "from sklearn.model_selection import train_test_split\n",
    "from sklearn.metrics import r2_score, mean_squared_error\n",
    "\n",
    "import seaborn as sns\n",
    "import numpy as np\n",
    "import matplotlib.pyplot as plt\n",
    "\n",
    "from docplex.mp.model import Model\n",
    "\n",
    "from qiskit.optimization import QuadraticProgram\n",
    "from qiskit.optimization.algorithms import MinimumEigenOptimizer\n",
    "from qiskit.aqua.algorithms import QAOA\n",
    "from qiskit import Aer\n",
    "\n",
    "%matplotlib inline\n",
    "from qiskit.finance import QiskitFinanceError\n",
    "from qiskit.finance.data_providers import *\n",
    "import warnings\n",
    "warnings.filterwarnings(\"ignore\", category=DeprecationWarning)\n",
    "import datetime\n",
    "import matplotlib.pyplot as plt\n",
    "from pandas.plotting import register_matplotlib_converters\n",
    "register_matplotlib_converters()\n",
    "\n",
    "from qiskit import IBMQ, execute"
   ]
  },
  {
   "cell_type": "code",
   "execution_count": 3,
   "metadata": {},
   "outputs": [
    {
     "name": "stderr",
     "output_type": "stream",
     "text": [
      "/Users/ouf/Documents/GitHub/qiskit-ibmq-provider/qiskit/providers/ibmq/ibmqfactory.py:192: UserWarning: Timestamps in IBMQ backend properties, jobs, and job results are all now in local time instead of UTC.\n",
      "  warnings.warn('Timestamps in IBMQ backend properties, jobs, and job results '\n"
     ]
    }
   ],
   "source": [
    "########################\n",
    "from qiskit.aqua.operators import PauliExpectation, CVaRExpectation\n",
    "from qiskit import IBMQ\n",
    "IBMQ.load_account()\n",
    "IBMQ.providers()\n",
    "provider = IBMQ.get_provider('ibm-q-internal', 'deployed', 'default')\n",
    "hw_backend = provider.get_backend('ibmq_paris')\n",
    "########################"
   ]
  },
  {
   "cell_type": "code",
   "execution_count": 3,
   "metadata": {},
   "outputs": [],
   "source": [
    "data = YahooDataProvider(\n",
    "                tickers = [\"GOOG\", \"AMZN\", \"AAPL\", \"MSFT\", \"DHR\", \"DOCU\", \n",
    "                           \"TSLA\", \"ZM\", \"TCEHY\", \"NFLX\", \"AMD\", \"AMZN\",\n",
    "                          \"IBM\", \"BABA\"],\n",
    "             start=datetime.datetime(2020, 7, 1),\n",
    "             end=datetime.datetime(2020, 9, 1))\n",
    "data.run()\n",
    "\n",
    "\n",
    "Y_data = np.transpose(np.array(data._data[0]))\n",
    "\n",
    "X_data = np.array([])\n",
    "X_data = [np.append(X_data, np.array(data._data[1]))]\n",
    "for i in range(2,len(data._tickers)):\n",
    "    X_data = np.append(X_data, [np.array(data._data[i])], axis=0)\n",
    "X_data = np.transpose(X_data)"
   ]
  },
  {
   "cell_type": "code",
   "execution_count": 4,
   "metadata": {},
   "outputs": [
    {
     "data": {
      "image/png": "[encoded data removed]",
      "text/plain": [
       "<Figure size 432x288 with 2 Axes>"
      ]
     },
     "metadata": {
      "needs_background": "light"
     },
     "output_type": "display_data"
    }
   ],
   "source": [
    "corr = np.corrcoef(X_data, rowvar=False)\n",
    "sns.heatmap(corr);"
   ]
  },
  {
   "cell_type": "code",
   "execution_count": 5,
   "metadata": {},
   "outputs": [
    {
     "name": "stdout",
     "output_type": "stream",
     "text": [
      "Goal: select 6 out of 13 features\n"
     ]
    }
   ],
   "source": [
    "n = X_data.shape[1]  # number of available features\n",
    "k = 6           # number of features to be selected\n",
    "\n",
    "print('Goal: select %s out of %s features' % (k, n))"
   ]
  },
  {
   "cell_type": "markdown",
   "metadata": {},
   "source": [
    "$$\n",
    "\\max_{x \\in \\{0, 1\\}^n} \\sum_{i, j=0}^{n-1} |\\rho_{ij}|x_i (1 - x_j) \\\\\n",
    "\\text{subject to:} \\sum_{i=0}^{n-1} x_i = k\n",
    "$$"
   ]
  },
  {
   "cell_type": "code",
   "execution_count": 6,
   "metadata": {},
   "outputs": [
    {
     "name": "stdout",
     "output_type": "stream",
     "text": [
      "solution for: feature_selection\n",
      "objective: 25.1018\n",
      "x2=1\n",
      "x4=1\n",
      "x5=1\n",
      "x10=1\n",
      "x11=1\n",
      "x12=1\n",
      "\n",
      "Selection: [ 2  4  5 10 11 12]\n"
     ]
    }
   ],
   "source": [
    "# initialize optimization problem\n",
    "mdl = Model('feature_selection')\n",
    "\n",
    "# create list of binary variabels\n",
    "x = mdl.binary_var_list('x{}'.format(i) for i in range(n))\n",
    "\n",
    "# define objective function\n",
    "objective = mdl.sum(abs(corr[i][j])*x[i]*(1 - x[j]) for i in range(n) for j in range(n))\n",
    "mdl.maximize(objective)\n",
    "# mdl.minimize(objective)\n",
    "\n",
    "# add constraint to fix number of features to be selected\n",
    "mdl.add_constraint(mdl.sum(x) == k);\n",
    "\n",
    "# print resulting model\n",
    "# mdl.pprint()\n",
    "\n",
    "solution = mdl.solve()\n",
    "print(solution)\n",
    "selection = np.where(solution.get_all_values())[0]\n",
    "print('Selection:', selection)\n",
    "\n",
    "# load into Qiskit QuadraticProgram\n",
    "qp = QuadraticProgram()\n",
    "qp.from_docplex(mdl)"
   ]
  },
  {
   "cell_type": "markdown",
   "metadata": {},
   "source": [
    "# Evaluate Feature Selection"
   ]
  },
  {
   "cell_type": "code",
   "execution_count": 7,
   "metadata": {},
   "outputs": [
    {
     "name": "stdout",
     "output_type": "stream",
     "text": [
      "RFE selection: [ 1  2  4  5 11 12]\n"
     ]
    },
    {
     "data": {
      "image/png": "[encoded data removed]",
      "text/plain": [
       "<Figure size 432x288 with 2 Axes>"
      ]
     },
     "metadata": {
      "needs_background": "light"
     },
     "output_type": "display_data"
    }
   ],
   "source": [
    "# initialize the regression algorithm to be used\n",
    "estimator = LinearRegression()\n",
    "\n",
    "# Recursive Feature Elimination\n",
    "selector = RFE(estimator, n_features_to_select=k, step=1)\n",
    "selector = selector.fit(X_data, Y_data)\n",
    "selection_rfe = np.where(selector.get_support())[0]\n",
    "print('RFE selection:', selection_rfe)\n",
    "sns.heatmap(np.corrcoef(X_data[:, selection_rfe], rowvar=False));"
   ]
  },
  {
   "cell_type": "code",
   "execution_count": 8,
   "metadata": {},
   "outputs": [],
   "source": [
    "# split into training and test datasets\n",
    "x_train, x_test, y_train, y_test = train_test_split(X_data, Y_data, test_size = 0.2, random_state=42)\n",
    "\n",
    "def evaluate(estimator, x_train_, y_train, x_test_, y_test):\n",
    "            \n",
    "    # fit esitmator\n",
    "    estimator.fit(x_train_, y_train)\n",
    "\n",
    "    # apply linear regression\n",
    "    y_pred = estimator.predict(x_test_)\n",
    "    \n",
    "    # evaluate performance metrics\n",
    "    r2 = r2_score(y_test, y_pred)\n",
    "    mse = mean_squared_error(y_test, y_pred)\n",
    "    \n",
    "    return r2, mse"
   ]
  },
  {
   "cell_type": "code",
   "execution_count": 9,
   "metadata": {},
   "outputs": [],
   "source": [
    "# apply RFE feature selection\n",
    "x_train_rfe = x_train[:, selection_rfe]\n",
    "x_test_rfe = x_test[:, selection_rfe]"
   ]
  },
  {
   "cell_type": "code",
   "execution_count": 10,
   "metadata": {},
   "outputs": [
    {
     "name": "stdout",
     "output_type": "stream",
     "text": [
      "Approach\tR2\tMSE\n",
      "------------------------------\n",
      "RFE     \t0.841\t540.75\n"
     ]
    }
   ],
   "source": [
    "rfe_eval = evaluate(estimator, x_train_rfe, y_train, x_test_rfe, y_test)\n",
    "\n",
    "print('Approach\\tR2\\tMSE')\n",
    "print('------------------------------')\n",
    "print('RFE     \\t%.3f\\t%.2f' % (rfe_eval[0], rfe_eval[1]))"
   ]
  },
  {
   "cell_type": "markdown",
   "metadata": {},
   "source": [
    "# VQE Ansaetze"
   ]
  },
  {
   "cell_type": "code",
   "execution_count": 16,
   "metadata": {},
   "outputs": [
    {
     "data": {
      "text/html": [
       "<pre style=\"word-wrap: normal;white-space: pre;background: #fff0;line-height: 1.1;font-family: &quot;Courier New&quot;,Courier,monospace\">     ┌─────────────┐┌─────────────┐\n",
       "q_0: ┤0            ├┤0            ├\n",
       "     │  RXX(theta) ││  RYY(theta) │\n",
       "q_1: ┤1            ├┤1            ├\n",
       "     └─────────────┘└─────────────┘</pre>"
      ],
      "text/plain": [
       "     ┌─────────────┐┌─────────────┐\n",
       "q_0: ┤0            ├┤0            ├\n",
       "     │  RXX(theta) ││  RYY(theta) │\n",
       "q_1: ┤1            ├┤1            ├\n",
       "     └─────────────┘└─────────────┘"
      ]
     },
     "execution_count": 16,
     "metadata": {},
     "output_type": "execute_result"
    }
   ],
   "source": [
    "from qiskit.circuit.library import TwoLocal\n",
    "from qiskit.aqua.algorithms import VQE\n",
    "from qiskit import QuantumCircuit\n",
    "from qiskit.circuit import Parameter\n",
    "\n",
    "from qiskit import transpile\n",
    "from qiskit.transpiler import PassManager\n",
    "from qiskit.transpiler.passes import Collect2qBlocks\n",
    "\n",
    "from qiskit.opflow import StateFn, MatrixOp\n",
    "\n",
    "theta = Parameter('theta')\n",
    "\n",
    "qc_ent = QuantumCircuit(2)\n",
    "qc_ent.rxx(theta, 0, 1)\n",
    "qc_ent.ryy(theta, 0, 1)\n",
    "qc_ent.draw()"
   ]
  },
  {
   "cell_type": "code",
   "execution_count": 24,
   "metadata": {},
   "outputs": [],
   "source": [
    "param_swap = lambda t: [[1, 0,0 ,0], [0, 0, np.exp(1j * t), 0],[0, np.exp(1j * t), 0, 0], [0, 0, 0, 1]]\n",
    "qc_ent = QuantumCircuit(2)\n",
    "qc_ent.x(0)\n",
    "# qc_ent.x(1)\n",
    "op = MatrixOp(param_swap(-np.pi/8))\n",
    "state =  op @ StateFn(qc_ent)"
   ]
  },
  {
   "cell_type": "code",
   "execution_count": 25,
   "metadata": {},
   "outputs": [
    {
     "data": {
      "text/plain": [
       "VectorStateFn(Statevector([0.        +0.j         0.        +0.j\n",
       "             0.92387953-0.38268343j 0.        +0.j        ]), coeff=1.0, is_measurement=False)"
      ]
     },
     "execution_count": 25,
     "metadata": {},
     "output_type": "execute_result"
    }
   ],
   "source": [
    "state.eval()"
   ]
  },
  {
   "cell_type": "code",
   "execution_count": 12,
   "metadata": {},
   "outputs": [
    {
     "data": {
      "text/html": [
       "<pre style=\"word-wrap: normal;white-space: pre;background: #fff0;line-height: 1.1;font-family: &quot;Courier New&quot;,Courier,monospace\">     ┌───┐                                  ┌───┐┌──────────┐     »\n",
       "q_0: ┤ H ├──■────────────────────────────■──┤ H ├┤ RX(pi/2) ├──■──»\n",
       "     ├───┤┌─┴─┐┌──────────────────────┐┌─┴─┐├───┤├──────────┤┌─┴─┐»\n",
       "q_1: ┤ H ├┤ X ├┤ RZ(1.23000000000000) ├┤ X ├┤ H ├┤ RX(pi/2) ├┤ X ├»\n",
       "     └───┘└───┘└──────────────────────┘└───┘└───┘└──────────┘└───┘»\n",
       "«                                  ┌───────────┐\n",
       "«q_0: ──────────────────────────■──┤ RX(-pi/2) ├\n",
       "«     ┌──────────────────────┐┌─┴─┐├───────────┤\n",
       "«q_1: ┤ RZ(1.23000000000000) ├┤ X ├┤ RX(-pi/2) ├\n",
       "«     └──────────────────────┘└───┘└───────────┘</pre>"
      ],
      "text/plain": [
       "     ┌───┐                                  ┌───┐┌──────────┐     »\n",
       "q_0: ┤ H ├──■────────────────────────────■──┤ H ├┤ RX(pi/2) ├──■──»\n",
       "     ├───┤┌─┴─┐┌──────────────────────┐┌─┴─┐├───┤├──────────┤┌─┴─┐»\n",
       "q_1: ┤ H ├┤ X ├┤ RZ(1.23000000000000) ├┤ X ├┤ H ├┤ RX(pi/2) ├┤ X ├»\n",
       "     └───┘└───┘└──────────────────────┘└───┘└───┘└──────────┘└───┘»\n",
       "«                                  ┌───────────┐\n",
       "«q_0: ──────────────────────────■──┤ RX(-pi/2) ├\n",
       "«     ┌──────────────────────┐┌─┴─┐├───────────┤\n",
       "«q_1: ┤ RZ(1.23000000000000) ├┤ X ├┤ RX(-pi/2) ├\n",
       "«     └──────────────────────┘└───┘└───────────┘"
      ]
     },
     "execution_count": 12,
     "metadata": {},
     "output_type": "execute_result"
    }
   ],
   "source": [
    "qc_ent_ = qc_ent.bind_parameters({theta: 1.23})\n",
    "qc_ent_.decompose().draw()"
   ]
  },
  {
   "cell_type": "code",
   "execution_count": null,
   "metadata": {},
   "outputs": [],
   "source": []
  },
  {
   "cell_type": "code",
   "execution_count": 21,
   "metadata": {},
   "outputs": [
    {
     "data": {
      "text/html": [
       "<pre style=\"word-wrap: normal;white-space: pre;background: #fff0;line-height: 1.1;font-family: &quot;Courier New&quot;,Courier,monospace\">      ┌────────────┐                                 \n",
       " q_0: ┤ RY(theta0) ├──■──────────────────────────────\n",
       "      └───┬───┬────┘┌─┴─┐┌────────────┐┌────────────┐\n",
       " q_1: ────┤ X ├─────┤ X ├┤0           ├┤0           ├\n",
       "      ┌───┴───┴────┐└───┘│  RXX(θ[0]) ││  RYY(θ[0]) │\n",
       " q_2: ┤ RY(theta1) ├──■──┤1           ├┤1           ├\n",
       "      └───┬───┬────┘┌─┴─┐├────────────┤├────────────┤\n",
       " q_3: ────┤ X ├─────┤ X ├┤0           ├┤0           ├\n",
       "      ┌───┴───┴────┐└───┘│  RXX(θ[1]) ││  RYY(θ[1]) │\n",
       " q_4: ┤ RY(theta2) ├──■──┤1           ├┤1           ├\n",
       "      └───┬───┬────┘┌─┴─┐├────────────┤├────────────┤\n",
       " q_5: ────┤ X ├─────┤ X ├┤0           ├┤0           ├\n",
       "      ┌───┴───┴────┐└───┘│  RXX(θ[2]) ││  RYY(θ[2]) │\n",
       " q_6: ┤ RY(theta3) ├──■──┤1           ├┤1           ├\n",
       "      └───┬───┬────┘┌─┴─┐├────────────┤├────────────┤\n",
       " q_7: ────┤ X ├─────┤ X ├┤0           ├┤0           ├\n",
       "      ┌───┴───┴────┐└───┘│  RXX(θ[3]) ││  RYY(θ[3]) │\n",
       " q_8: ┤ RY(theta4) ├──■──┤1           ├┤1           ├\n",
       "      └───┬───┬────┘┌─┴─┐├────────────┤├────────────┤\n",
       " q_9: ────┤ X ├─────┤ X ├┤0           ├┤0           ├\n",
       "      ┌───┴───┴────┐└───┘│  RXX(θ[4]) ││  RYY(θ[4]) │\n",
       "q_10: ┤ RY(theta5) ├──■──┤1           ├┤1           ├\n",
       "      └───┬───┬────┘┌─┴─┐├────────────┤├────────────┤\n",
       "q_11: ────┤ X ├─────┤ X ├┤0           ├┤0           ├\n",
       "          └───┘     └───┘│  RXX(θ[5]) ││  RYY(θ[5]) │\n",
       "q_12: ───────────────────┤1           ├┤1           ├\n",
       "                         └────────────┘└────────────┘</pre>"
      ],
      "text/plain": [
       "      ┌────────────┐                                 \n",
       " q_0: ┤ RY(theta0) ├──■──────────────────────────────\n",
       "      └───┬───┬────┘┌─┴─┐┌────────────┐┌────────────┐\n",
       " q_1: ────┤ X ├─────┤ X ├┤0           ├┤0           ├\n",
       "      ┌───┴───┴────┐└───┘│  RXX(θ[0]) ││  RYY(θ[0]) │\n",
       " q_2: ┤ RY(theta1) ├──■──┤1           ├┤1           ├\n",
       "      └───┬───┬────┘┌─┴─┐├────────────┤├────────────┤\n",
       " q_3: ────┤ X ├─────┤ X ├┤0           ├┤0           ├\n",
       "      ┌───┴───┴────┐└───┘│  RXX(θ[1]) ││  RYY(θ[1]) │\n",
       " q_4: ┤ RY(theta2) ├──■──┤1           ├┤1           ├\n",
       "      └───┬───┬────┘┌─┴─┐├────────────┤├────────────┤\n",
       " q_5: ────┤ X ├─────┤ X ├┤0           ├┤0           ├\n",
       "      ┌───┴───┴────┐└───┘│  RXX(θ[2]) ││  RYY(θ[2]) │\n",
       " q_6: ┤ RY(theta3) ├──■──┤1           ├┤1           ├\n",
       "      └───┬───┬────┘┌─┴─┐├────────────┤├────────────┤\n",
       " q_7: ────┤ X ├─────┤ X ├┤0           ├┤0           ├\n",
       "      ┌───┴───┴────┐└───┘│  RXX(θ[3]) ││  RYY(θ[3]) │\n",
       " q_8: ┤ RY(theta4) ├──■──┤1           ├┤1           ├\n",
       "      └───┬───┬────┘┌─┴─┐├────────────┤├────────────┤\n",
       " q_9: ────┤ X ├─────┤ X ├┤0           ├┤0           ├\n",
       "      ┌───┴───┴────┐└───┘│  RXX(θ[4]) ││  RYY(θ[4]) │\n",
       "q_10: ┤ RY(theta5) ├──■──┤1           ├┤1           ├\n",
       "      └───┬───┬────┘┌─┴─┐├────────────┤├────────────┤\n",
       "q_11: ────┤ X ├─────┤ X ├┤0           ├┤0           ├\n",
       "          └───┘     └───┘│  RXX(θ[5]) ││  RYY(θ[5]) │\n",
       "q_12: ───────────────────┤1           ├┤1           ├\n",
       "                         └────────────┘└────────────┘"
      ]
     },
     "execution_count": 21,
     "metadata": {},
     "output_type": "execute_result"
    }
   ],
   "source": [
    "n = 13\n",
    "k = 6\n",
    "\n",
    "qc = QuantumCircuit(n)\n",
    "\n",
    "for i in range(0, 11, 2):\n",
    "    theta_i = Parameter('theta%s' % (i//2))\n",
    "    qc.ry(theta_i, i)\n",
    "    \n",
    "    # 1. entangled option\n",
    "    qc.x(i+1)\n",
    "    qc.cx(i, i+1)\n",
    "    \n",
    "#     # 2. non-entangled option\n",
    "#     qc.ry(theta_i + np.pi/2, i+1)\n",
    "# for i in range(13):\n",
    "#     theta_i = Parameter('theta%s' % i)\n",
    "#     qc.ry(theta_i,i)\n",
    "    \n",
    "entanglement = [(i, (i+1) % n) for i in range(1, n, 2)] # + [(i, i+1) for i in range(0, n-1, 2)]\n",
    "    \n",
    "qc += TwoLocal(n, rotation_blocks=None, reps=1, entanglement_blocks=qc_ent, entanglement=entanglement)\n",
    "qc.draw(fold=120)"
   ]
  },
  {
   "cell_type": "code",
   "execution_count": 14,
   "metadata": {
    "scrolled": true
   },
   "outputs": [
    {
     "data": {
      "text/html": [
       "<pre style=\"word-wrap: normal;white-space: pre;background: #fff0;line-height: 1.1;font-family: &quot;Courier New&quot;,Courier,monospace\">global phase: 1.44349329296476\n",
       "      ┌───────────────────────────┐                            »\n",
       " q_0: ┤ U3(-2.68765712219565,0,0) ├───■────────────────────────»\n",
       "      └──────┬─────────────┬──────┘ ┌─┴─┐┌───────────────┐     »\n",
       " q_1: ───────┤ U3(pi,0,pi) ├────────┤ X ├┤ U3(pi/2,0,pi) ├──■──»\n",
       "      ┌──────┴─────────────┴───────┐└───┘├───────────────┤┌─┴─┐»\n",
       " q_2: ┤ U3(-0.957825216565686,0,0) ├──■──┤ U3(pi/2,0,pi) ├┤ X ├»\n",
       "      └──────┬─────────────┬───────┘┌─┴─┐├───────────────┤└───┘»\n",
       " q_3: ───────┤ U3(pi,0,pi) ├────────┤ X ├┤ U3(pi/2,0,pi) ├──■──»\n",
       "      ┌──────┴─────────────┴───────┐└───┘├───────────────┤┌─┴─┐»\n",
       " q_4: ┤ U3(-0.268200900123696,0,0) ├──■──┤ U3(pi/2,0,pi) ├┤ X ├»\n",
       "      └──────┬─────────────┬───────┘┌─┴─┐├───────────────┤└───┘»\n",
       " q_5: ───────┤ U3(pi,0,pi) ├────────┤ X ├┤ U3(pi/2,0,pi) ├──■──»\n",
       "      ┌──────┴─────────────┴──────┐ └───┘├───────────────┤┌─┴─┐»\n",
       " q_6: ┤ U3(0.895033734147229,0,0) ├───■──┤ U3(pi/2,0,pi) ├┤ X ├»\n",
       "      └──────┬─────────────┬──────┘ ┌─┴─┐├───────────────┤└───┘»\n",
       " q_7: ───────┤ U3(pi,0,pi) ├────────┤ X ├┤ U3(pi/2,0,pi) ├──■──»\n",
       "      ┌──────┴─────────────┴───────┐└───┘├───────────────┤┌─┴─┐»\n",
       " q_8: ┤ U3(0.0352807399384094,0,0) ├──■──┤ U3(pi/2,0,pi) ├┤ X ├»\n",
       "      └──────┬─────────────┬───────┘┌─┴─┐├───────────────┤└───┘»\n",
       " q_9: ───────┤ U3(pi,0,pi) ├────────┤ X ├┤ U3(pi/2,0,pi) ├──■──»\n",
       "      ┌──────┴─────────────┴──────┐ └───┘├───────────────┤┌─┴─┐»\n",
       "q_10: ┤ U3(-1.02920942699044,0,0) ├───■──┤ U3(pi/2,0,pi) ├┤ X ├»\n",
       "      └──────┬─────────────┬──────┘ ┌─┴─┐├───────────────┤└───┘»\n",
       "q_11: ───────┤ U3(pi,0,pi) ├────────┤ X ├┤ U3(pi/2,0,pi) ├──■──»\n",
       "            ┌┴─────────────┴┐       └───┘└───────────────┘┌─┴─┐»\n",
       "q_12: ──────┤ U3(pi/2,0,pi) ├─────────────────────────────┤ X ├»\n",
       "            └───────────────┘                             └───┘»\n",
       "«                                                          »\n",
       "« q_0: ────────────────────────────────────────────────────»\n",
       "«                                         ┌───────────────┐»\n",
       "« q_1: ────────────────────────────────■──┤ U3(pi/2,0,pi) ├»\n",
       "«      ┌────────────────────────────┐┌─┴─┐├───────────────┤»\n",
       "« q_2: ┤ U3(0,0,-0.707419413502767) ├┤ X ├┤ U3(pi/2,0,pi) ├»\n",
       "«      └────────────────────────────┘└───┘├───────────────┤»\n",
       "« q_3: ────────────────────────────────■──┤ U3(pi/2,0,pi) ├»\n",
       "«      ┌───────────────────────────┐ ┌─┴─┐├───────────────┤»\n",
       "« q_4: ┤ U3(0,0,0.529552781313715) ├─┤ X ├┤ U3(pi/2,0,pi) ├»\n",
       "«      └───────────────────────────┘ └───┘├───────────────┤»\n",
       "« q_5: ────────────────────────────────■──┤ U3(pi/2,0,pi) ├»\n",
       "«      ┌───────────────────────────┐ ┌─┴─┐├───────────────┤»\n",
       "« q_6: ┤ U3(0,0,0.149052040279565) ├─┤ X ├┤ U3(pi/2,0,pi) ├»\n",
       "«      └───────────────────────────┘ └───┘├───────────────┤»\n",
       "« q_7: ────────────────────────────────■──┤ U3(pi/2,0,pi) ├»\n",
       "«       ┌──────────────────────────┐ ┌─┴─┐├───────────────┤»\n",
       "« q_8: ─┤ U3(0,0,1.68404469210473) ├─┤ X ├┤ U3(pi/2,0,pi) ├»\n",
       "«       └──────────────────────────┘ └───┘├───────────────┤»\n",
       "« q_9: ────────────────────────────────■──┤ U3(pi/2,0,pi) ├»\n",
       "«      ┌───────────────────────────┐ ┌─┴─┐├───────────────┤»\n",
       "«q_10: ┤ U3(0,0,-1.92296664435963) ├─┤ X ├┤ U3(pi/2,0,pi) ├»\n",
       "«      └───────────────────────────┘ └───┘├───────────────┤»\n",
       "«q_11: ────────────────────────────────■──┤ U3(pi/2,0,pi) ├»\n",
       "«      ┌───────────────────────────┐ ┌─┴─┐├───────────────┤»\n",
       "«q_12: ┤ U3(0,0,-1.17575674880037) ├─┤ X ├┤ U3(pi/2,0,pi) ├»\n",
       "«      └───────────────────────────┘ └───┘└───────────────┘»\n",
       "«                                                                     »\n",
       "« q_0: ───────────────────────────────────────────────────────────────»\n",
       "«      ┌─────────────────────┐                                        »\n",
       "« q_1: ┤ U3(pi/2,-pi/2,pi/2) ├──■──────────────────────────────────■──»\n",
       "«      ├─────────────────────┤┌─┴─┐┌────────────────────────────┐┌─┴─┐»\n",
       "« q_2: ┤ U3(pi/2,-pi/2,pi/2) ├┤ X ├┤ U3(0,0,-0.707419413502767) ├┤ X ├»\n",
       "«      ├─────────────────────┤└───┘└────────────────────────────┘└───┘»\n",
       "« q_3: ┤ U3(pi/2,-pi/2,pi/2) ├──■──────────────────────────────────■──»\n",
       "«      ├─────────────────────┤┌─┴─┐┌───────────────────────────┐ ┌─┴─┐»\n",
       "« q_4: ┤ U3(pi/2,-pi/2,pi/2) ├┤ X ├┤ U3(0,0,0.529552781313715) ├─┤ X ├»\n",
       "«      ├─────────────────────┤└───┘└───────────────────────────┘ └───┘»\n",
       "« q_5: ┤ U3(pi/2,-pi/2,pi/2) ├──■──────────────────────────────────■──»\n",
       "«      ├─────────────────────┤┌─┴─┐┌───────────────────────────┐ ┌─┴─┐»\n",
       "« q_6: ┤ U3(pi/2,-pi/2,pi/2) ├┤ X ├┤ U3(0,0,0.149052040279565) ├─┤ X ├»\n",
       "«      ├─────────────────────┤└───┘└───────────────────────────┘ └───┘»\n",
       "« q_7: ┤ U3(pi/2,-pi/2,pi/2) ├──■──────────────────────────────────■──»\n",
       "«      ├─────────────────────┤┌─┴─┐ ┌──────────────────────────┐ ┌─┴─┐»\n",
       "« q_8: ┤ U3(pi/2,-pi/2,pi/2) ├┤ X ├─┤ U3(0,0,1.68404469210473) ├─┤ X ├»\n",
       "«      ├─────────────────────┤└───┘ └──────────────────────────┘ └───┘»\n",
       "« q_9: ┤ U3(pi/2,-pi/2,pi/2) ├──■──────────────────────────────────■──»\n",
       "«      ├─────────────────────┤┌─┴─┐┌───────────────────────────┐ ┌─┴─┐»\n",
       "«q_10: ┤ U3(pi/2,-pi/2,pi/2) ├┤ X ├┤ U3(0,0,-1.92296664435963) ├─┤ X ├»\n",
       "«      ├─────────────────────┤└───┘└───────────────────────────┘ └───┘»\n",
       "«q_11: ┤ U3(pi/2,-pi/2,pi/2) ├──■──────────────────────────────────■──»\n",
       "«      ├─────────────────────┤┌─┴─┐┌───────────────────────────┐ ┌─┴─┐»\n",
       "«q_12: ┤ U3(pi/2,-pi/2,pi/2) ├┤ X ├┤ U3(0,0,-1.17575674880037) ├─┤ X ├»\n",
       "«      └─────────────────────┘└───┘└───────────────────────────┘ └───┘»\n",
       "«                              \n",
       "« q_0: ────────────────────────\n",
       "«      ┌──────────────────────┐\n",
       "« q_1: ┤ U3(-pi/2,-pi/2,pi/2) ├\n",
       "«      ├──────────────────────┤\n",
       "« q_2: ┤ U3(-pi/2,-pi/2,pi/2) ├\n",
       "«      ├──────────────────────┤\n",
       "« q_3: ┤ U3(-pi/2,-pi/2,pi/2) ├\n",
       "«      ├──────────────────────┤\n",
       "« q_4: ┤ U3(-pi/2,-pi/2,pi/2) ├\n",
       "«      ├──────────────────────┤\n",
       "« q_5: ┤ U3(-pi/2,-pi/2,pi/2) ├\n",
       "«      ├──────────────────────┤\n",
       "« q_6: ┤ U3(-pi/2,-pi/2,pi/2) ├\n",
       "«      ├──────────────────────┤\n",
       "« q_7: ┤ U3(-pi/2,-pi/2,pi/2) ├\n",
       "«      ├──────────────────────┤\n",
       "« q_8: ┤ U3(-pi/2,-pi/2,pi/2) ├\n",
       "«      ├──────────────────────┤\n",
       "« q_9: ┤ U3(-pi/2,-pi/2,pi/2) ├\n",
       "«      ├──────────────────────┤\n",
       "«q_10: ┤ U3(-pi/2,-pi/2,pi/2) ├\n",
       "«      ├──────────────────────┤\n",
       "«q_11: ┤ U3(-pi/2,-pi/2,pi/2) ├\n",
       "«      ├──────────────────────┤\n",
       "«q_12: ┤ U3(-pi/2,-pi/2,pi/2) ├\n",
       "«      └──────────────────────┘</pre>"
      ],
      "text/plain": [
       "global phase: 1.44349329296476\n",
       "      ┌───────────────────────────┐                            »\n",
       " q_0: ┤ U3(-2.68765712219565,0,0) ├───■────────────────────────»\n",
       "      └──────┬─────────────┬──────┘ ┌─┴─┐┌───────────────┐     »\n",
       " q_1: ───────┤ U3(pi,0,pi) ├────────┤ X ├┤ U3(pi/2,0,pi) ├──■──»\n",
       "      ┌──────┴─────────────┴───────┐└───┘├───────────────┤┌─┴─┐»\n",
       " q_2: ┤ U3(-0.957825216565686,0,0) ├──■──┤ U3(pi/2,0,pi) ├┤ X ├»\n",
       "      └──────┬─────────────┬───────┘┌─┴─┐├───────────────┤└───┘»\n",
       " q_3: ───────┤ U3(pi,0,pi) ├────────┤ X ├┤ U3(pi/2,0,pi) ├──■──»\n",
       "      ┌──────┴─────────────┴───────┐└───┘├───────────────┤┌─┴─┐»\n",
       " q_4: ┤ U3(-0.268200900123696,0,0) ├──■──┤ U3(pi/2,0,pi) ├┤ X ├»\n",
       "      └──────┬─────────────┬───────┘┌─┴─┐├───────────────┤└───┘»\n",
       " q_5: ───────┤ U3(pi,0,pi) ├────────┤ X ├┤ U3(pi/2,0,pi) ├──■──»\n",
       "      ┌──────┴─────────────┴──────┐ └───┘├───────────────┤┌─┴─┐»\n",
       " q_6: ┤ U3(0.895033734147229,0,0) ├───■──┤ U3(pi/2,0,pi) ├┤ X ├»\n",
       "      └──────┬─────────────┬──────┘ ┌─┴─┐├───────────────┤└───┘»\n",
       " q_7: ───────┤ U3(pi,0,pi) ├────────┤ X ├┤ U3(pi/2,0,pi) ├──■──»\n",
       "      ┌──────┴─────────────┴───────┐└───┘├───────────────┤┌─┴─┐»\n",
       " q_8: ┤ U3(0.0352807399384094,0,0) ├──■──┤ U3(pi/2,0,pi) ├┤ X ├»\n",
       "      └──────┬─────────────┬───────┘┌─┴─┐├───────────────┤└───┘»\n",
       " q_9: ───────┤ U3(pi,0,pi) ├────────┤ X ├┤ U3(pi/2,0,pi) ├──■──»\n",
       "      ┌──────┴─────────────┴──────┐ └───┘├───────────────┤┌─┴─┐»\n",
       "q_10: ┤ U3(-1.02920942699044,0,0) ├───■──┤ U3(pi/2,0,pi) ├┤ X ├»\n",
       "      └──────┬─────────────┬──────┘ ┌─┴─┐├───────────────┤└───┘»\n",
       "q_11: ───────┤ U3(pi,0,pi) ├────────┤ X ├┤ U3(pi/2,0,pi) ├──■──»\n",
       "            ┌┴─────────────┴┐       └───┘└───────────────┘┌─┴─┐»\n",
       "q_12: ──────┤ U3(pi/2,0,pi) ├─────────────────────────────┤ X ├»\n",
       "            └───────────────┘                             └───┘»\n",
       "«                                                          »\n",
       "« q_0: ────────────────────────────────────────────────────»\n",
       "«                                         ┌───────────────┐»\n",
       "« q_1: ────────────────────────────────■──┤ U3(pi/2,0,pi) ├»\n",
       "«      ┌────────────────────────────┐┌─┴─┐├───────────────┤»\n",
       "« q_2: ┤ U3(0,0,-0.707419413502767) ├┤ X ├┤ U3(pi/2,0,pi) ├»\n",
       "«      └────────────────────────────┘└───┘├───────────────┤»\n",
       "« q_3: ────────────────────────────────■──┤ U3(pi/2,0,pi) ├»\n",
       "«      ┌───────────────────────────┐ ┌─┴─┐├───────────────┤»\n",
       "« q_4: ┤ U3(0,0,0.529552781313715) ├─┤ X ├┤ U3(pi/2,0,pi) ├»\n",
       "«      └───────────────────────────┘ └───┘├───────────────┤»\n",
       "« q_5: ────────────────────────────────■──┤ U3(pi/2,0,pi) ├»\n",
       "«      ┌───────────────────────────┐ ┌─┴─┐├───────────────┤»\n",
       "« q_6: ┤ U3(0,0,0.149052040279565) ├─┤ X ├┤ U3(pi/2,0,pi) ├»\n",
       "«      └───────────────────────────┘ └───┘├───────────────┤»\n",
       "« q_7: ────────────────────────────────■──┤ U3(pi/2,0,pi) ├»\n",
       "«       ┌──────────────────────────┐ ┌─┴─┐├───────────────┤»\n",
       "« q_8: ─┤ U3(0,0,1.68404469210473) ├─┤ X ├┤ U3(pi/2,0,pi) ├»\n",
       "«       └──────────────────────────┘ └───┘├───────────────┤»\n",
       "« q_9: ────────────────────────────────■──┤ U3(pi/2,0,pi) ├»\n",
       "«      ┌───────────────────────────┐ ┌─┴─┐├───────────────┤»\n",
       "«q_10: ┤ U3(0,0,-1.92296664435963) ├─┤ X ├┤ U3(pi/2,0,pi) ├»\n",
       "«      └───────────────────────────┘ └───┘├───────────────┤»\n",
       "«q_11: ────────────────────────────────■──┤ U3(pi/2,0,pi) ├»\n",
       "«      ┌───────────────────────────┐ ┌─┴─┐├───────────────┤»\n",
       "«q_12: ┤ U3(0,0,-1.17575674880037) ├─┤ X ├┤ U3(pi/2,0,pi) ├»\n",
       "«      └───────────────────────────┘ └───┘└───────────────┘»\n",
       "«                                                                     »\n",
       "« q_0: ───────────────────────────────────────────────────────────────»\n",
       "«      ┌─────────────────────┐                                        »\n",
       "« q_1: ┤ U3(pi/2,-pi/2,pi/2) ├──■──────────────────────────────────■──»\n",
       "«      ├─────────────────────┤┌─┴─┐┌────────────────────────────┐┌─┴─┐»\n",
       "« q_2: ┤ U3(pi/2,-pi/2,pi/2) ├┤ X ├┤ U3(0,0,-0.707419413502767) ├┤ X ├»\n",
       "«      ├─────────────────────┤└───┘└────────────────────────────┘└───┘»\n",
       "« q_3: ┤ U3(pi/2,-pi/2,pi/2) ├──■──────────────────────────────────■──»\n",
       "«      ├─────────────────────┤┌─┴─┐┌───────────────────────────┐ ┌─┴─┐»\n",
       "« q_4: ┤ U3(pi/2,-pi/2,pi/2) ├┤ X ├┤ U3(0,0,0.529552781313715) ├─┤ X ├»\n",
       "«      ├─────────────────────┤└───┘└───────────────────────────┘ └───┘»\n",
       "« q_5: ┤ U3(pi/2,-pi/2,pi/2) ├──■──────────────────────────────────■──»\n",
       "«      ├─────────────────────┤┌─┴─┐┌───────────────────────────┐ ┌─┴─┐»\n",
       "« q_6: ┤ U3(pi/2,-pi/2,pi/2) ├┤ X ├┤ U3(0,0,0.149052040279565) ├─┤ X ├»\n",
       "«      ├─────────────────────┤└───┘└───────────────────────────┘ └───┘»\n",
       "« q_7: ┤ U3(pi/2,-pi/2,pi/2) ├──■──────────────────────────────────■──»\n",
       "«      ├─────────────────────┤┌─┴─┐ ┌──────────────────────────┐ ┌─┴─┐»\n",
       "« q_8: ┤ U3(pi/2,-pi/2,pi/2) ├┤ X ├─┤ U3(0,0,1.68404469210473) ├─┤ X ├»\n",
       "«      ├─────────────────────┤└───┘ └──────────────────────────┘ └───┘»\n",
       "« q_9: ┤ U3(pi/2,-pi/2,pi/2) ├──■──────────────────────────────────■──»\n",
       "«      ├─────────────────────┤┌─┴─┐┌───────────────────────────┐ ┌─┴─┐»\n",
       "«q_10: ┤ U3(pi/2,-pi/2,pi/2) ├┤ X ├┤ U3(0,0,-1.92296664435963) ├─┤ X ├»\n",
       "«      ├─────────────────────┤└───┘└───────────────────────────┘ └───┘»\n",
       "«q_11: ┤ U3(pi/2,-pi/2,pi/2) ├──■──────────────────────────────────■──»\n",
       "«      ├─────────────────────┤┌─┴─┐┌───────────────────────────┐ ┌─┴─┐»\n",
       "«q_12: ┤ U3(pi/2,-pi/2,pi/2) ├┤ X ├┤ U3(0,0,-1.17575674880037) ├─┤ X ├»\n",
       "«      └─────────────────────┘└───┘└───────────────────────────┘ └───┘»\n",
       "«                              \n",
       "« q_0: ────────────────────────\n",
       "«      ┌──────────────────────┐\n",
       "« q_1: ┤ U3(-pi/2,-pi/2,pi/2) ├\n",
       "«      ├──────────────────────┤\n",
       "« q_2: ┤ U3(-pi/2,-pi/2,pi/2) ├\n",
       "«      ├──────────────────────┤\n",
       "« q_3: ┤ U3(-pi/2,-pi/2,pi/2) ├\n",
       "«      ├──────────────────────┤\n",
       "« q_4: ┤ U3(-pi/2,-pi/2,pi/2) ├\n",
       "«      ├──────────────────────┤\n",
       "« q_5: ┤ U3(-pi/2,-pi/2,pi/2) ├\n",
       "«      ├──────────────────────┤\n",
       "« q_6: ┤ U3(-pi/2,-pi/2,pi/2) ├\n",
       "«      ├──────────────────────┤\n",
       "« q_7: ┤ U3(-pi/2,-pi/2,pi/2) ├\n",
       "«      ├──────────────────────┤\n",
       "« q_8: ┤ U3(-pi/2,-pi/2,pi/2) ├\n",
       "«      ├──────────────────────┤\n",
       "« q_9: ┤ U3(-pi/2,-pi/2,pi/2) ├\n",
       "«      ├──────────────────────┤\n",
       "«q_10: ┤ U3(-pi/2,-pi/2,pi/2) ├\n",
       "«      ├──────────────────────┤\n",
       "«q_11: ┤ U3(-pi/2,-pi/2,pi/2) ├\n",
       "«      ├──────────────────────┤\n",
       "«q_12: ┤ U3(-pi/2,-pi/2,pi/2) ├\n",
       "«      └──────────────────────┘"
      ]
     },
     "execution_count": 14,
     "metadata": {},
     "output_type": "execute_result"
    }
   ],
   "source": [
    "pm = PassManager(Collect2qBlocks())\n",
    "qc_t = pm.run(qc)\n",
    "# print(qc_t.depth())\n",
    "qc_t = qc.decompose().decompose().decompose()\n",
    "qc_t.draw()\n",
    "params = {p: np.random.randn(qc.num_parameters)[i] for i, p in enumerate(qc.parameters)}\n",
    "qc_t = qc_t.bind_parameters(params)\n",
    "qc_t = pm.run(qc_t)\n",
    "qc_t.draw()"
   ]
  },
  {
   "cell_type": "code",
   "execution_count": 15,
   "metadata": {},
   "outputs": [],
   "source": [
    "from qiskit.aqua import QuantumInstance\n",
    "from qiskit.aqua.components.optimizers import COBYLA, SPSA\n",
    "from qiskit.circuit.library import EfficientSU2\n"
   ]
  },
  {
   "cell_type": "code",
   "execution_count": 24,
   "metadata": {},
   "outputs": [
    {
     "name": "stdout",
     "output_type": "stream",
     "text": [
      "1 -712.1941999763732\n",
      "2 -712.2082952019721\n",
      "3 -712.1351258887026\n",
      "4 -712.4765930724158\n",
      "5 -712.5180078402943\n",
      "6 -712.3362259799003\n",
      "7 -712.639871764426\n",
      "8 -712.6557004726127\n",
      "9 -712.5871054804838\n",
      "10 -712.6921005834912\n",
      "11 -712.5555901322697\n",
      "12 -712.6771306007864\n",
      "13 -711.9553525959944\n",
      "14 -712.6273150288398\n",
      "15 -712.6597064184867\n",
      "16 -712.6406601424358\n",
      "17 -712.6321407760438\n",
      "18 -712.6640035604659\n",
      "19 -712.6001674672762\n",
      "20 -712.557092479154\n",
      "21 -712.6644851108558\n",
      "22 -712.6606295183008\n",
      "23 -712.684024021917\n",
      "24 -712.6782499123109\n",
      "25 -712.7673196131299\n",
      "26 -712.7627404088145\n",
      "27 -712.7958902953878\n",
      "28 -712.7787579987137\n",
      "29 -712.7969663659236\n",
      "30 -712.7796504220282\n",
      "31 -712.8082594659948\n",
      "32 -712.8190796836349\n",
      "33 -712.8406329555175\n",
      "34 -712.8332812835865\n",
      "35 -712.8627278101948\n",
      "36 -712.8572722733385\n",
      "37 -712.8800769459607\n",
      "38 -712.897079162947\n",
      "39 -712.8866462121684\n",
      "40 -712.8992217534507\n",
      "41 -712.8931060515367\n",
      "42 -712.9064576065227\n",
      "43 -712.9139776963524\n",
      "44 -712.89669631708\n",
      "45 -712.9177809157813\n",
      "46 -712.9167558750215\n",
      "47 -712.9173974569402\n",
      "48 -712.9193514149681\n",
      "49 -712.9186953199189\n",
      "50 -712.9201774595334\n",
      "51 -712.9196921340658\n",
      "52 -712.9198477185894\n",
      "53 -712.9186988122515\n",
      "54 -712.9153624969376\n",
      "55 -712.9168684480154\n",
      "56 -712.9211963732776\n",
      "57 -712.9187719822534\n",
      "58 -712.9194514926379\n",
      "59 -712.9171987019187\n",
      "60 -712.9194684537713\n",
      "61 -712.9200294774789\n",
      "62 -712.9198664274417\n",
      "63 -712.9187848604365\n",
      "64 -712.9179350332935\n",
      "65 -712.9191120356855\n",
      "66 -712.9186530484561\n",
      "67 -712.9196910976508\n",
      "68 -712.9186035557383\n",
      "69 -712.9192529365641\n",
      "70 -712.9195680466091\n",
      "71 -712.9084061371564\n",
      "72 -712.9178593689445\n",
      "73 -712.9082102381946\n",
      "74 -712.9073381\n",
      "75 -712.9137177695608\n",
      "76 -712.9181159938454\n",
      "77 -712.9185443302807\n",
      "78 -712.9107891861213\n",
      "79 -712.9155131809479\n",
      "80 -712.9149716667287\n",
      "81 -712.9182267097126\n",
      "82 -712.913083768128\n",
      "83 -712.9126793427394\n",
      "84 -712.9162387789555\n",
      "85 -712.9199302118401\n",
      "86 -712.9119006807417\n"
     ]
    },
    {
     "name": "stderr",
     "output_type": "stream",
     "text": [
      "FAILURE: job id: 5f7f4f1685f385001a2361a0, status: 'FAIL_TO_GET_STATUS' Terra job error: '\"HTTPSConnectionPool(host=\\'api-qcon.quantum-computing.ibm.com\\', port=443): Max retries exceeded with url: /api/Network/ibm-q-internal/Groups/deployed/Projects/default/Jobs/5f7f4f1685f385001a2361a0/status/v/1 (Caused by NewConnectionError(\\'<urllib3.connection.VerifiedHTTPSConnection object at 0x7fc1e31b1d90>: Failed to establish a new connection: [Errno 8] nodename nor servname provided, or not known\\'))\"'\n"
     ]
    },
    {
     "name": "stdout",
     "output_type": "stream",
     "text": [
      "87 -712.9180334790964\n",
      "88 -712.9196663876633\n"
     ]
    },
    {
     "name": "stderr",
     "output_type": "stream",
     "text": [
      "FAILURE: job id: 5f7f68f887aa9e001597f3db, status: 'FAIL_TO_GET_STATUS' Terra job error: '\"HTTPSConnectionPool(host=\\'api-qcon.quantum-computing.ibm.com\\', port=443): Max retries exceeded with url: /api/Network/ibm-q-internal/Groups/deployed/Projects/default/Jobs/5f7f68f887aa9e001597f3db/status/v/1 (Caused by NewConnectionError(\\'<urllib3.connection.VerifiedHTTPSConnection object at 0x7fc1e33e3310>: Failed to establish a new connection: [Errno 8] nodename nor servname provided, or not known\\'))\"'\n",
      "FAILURE: job id: 5f7f68f887aa9e001597f3db, status: 'FAIL_TO_GET_STATUS' Terra job error: '\"HTTPSConnectionPool(host=\\'api-qcon.quantum-computing.ibm.com\\', port=443): Max retries exceeded with url: /api/Network/ibm-q-internal/Groups/deployed/Projects/default/Jobs/5f7f68f887aa9e001597f3db/status/v/1 (Caused by NewConnectionError(\\'<urllib3.connection.VerifiedHTTPSConnection object at 0x7fc1e3334450>: Failed to establish a new connection: [Errno 8] nodename nor servname provided, or not known\\'))\"'\n",
      "FAILURE: job id: 5f7f68f887aa9e001597f3db, status: 'FAIL_TO_GET_STATUS' Terra job error: '\"HTTPSConnectionPool(host=\\'api-qcon.quantum-computing.ibm.com\\', port=443): Max retries exceeded with url: /api/Network/ibm-q-internal/Groups/deployed/Projects/default/Jobs/5f7f68f887aa9e001597f3db/status/v/1 (Caused by NewConnectionError(\\'<urllib3.connection.VerifiedHTTPSConnection object at 0x7fc1e332df50>: Failed to establish a new connection: [Errno 8] nodename nor servname provided, or not known\\'))\"'\n",
      "FAILURE: job id: 5f7f68f887aa9e001597f3db, status: 'FAIL_TO_GET_STATUS' Terra job error: '\"HTTPSConnectionPool(host=\\'api-qcon.quantum-computing.ibm.com\\', port=443): Max retries exceeded with url: /api/Network/ibm-q-internal/Groups/deployed/Projects/default/Jobs/5f7f68f887aa9e001597f3db/status/v/1 (Caused by NewConnectionError(\\'<urllib3.connection.VerifiedHTTPSConnection object at 0x7fc1e332d710>: Failed to establish a new connection: [Errno 8] nodename nor servname provided, or not known\\'))\"'\n",
      "FAILURE: job id: 5f7f68f887aa9e001597f3db, status: 'FAIL_TO_GET_STATUS' Terra job error: '\"HTTPSConnectionPool(host=\\'api-qcon.quantum-computing.ibm.com\\', port=443): Max retries exceeded with url: /api/Network/ibm-q-internal/Groups/deployed/Projects/default/Jobs/5f7f68f887aa9e001597f3db/status/v/1 (Caused by NewConnectionError(\\'<urllib3.connection.VerifiedHTTPSConnection object at 0x7fc1e332d410>: Failed to establish a new connection: [Errno 8] nodename nor servname provided, or not known\\'))\"'\n",
      "FAILURE: job id: 5f7f68f887aa9e001597f3db, status: 'FAIL_TO_GET_STATUS' Terra job error: '\"HTTPSConnectionPool(host=\\'api-qcon.quantum-computing.ibm.com\\', port=443): Max retries exceeded with url: /api/Network/ibm-q-internal/Groups/deployed/Projects/default/Jobs/5f7f68f887aa9e001597f3db/status/v/1 (Caused by NewConnectionError(\\'<urllib3.connection.VerifiedHTTPSConnection object at 0x7fc1e3334350>: Failed to establish a new connection: [Errno 8] nodename nor servname provided, or not known\\'))\"'\n",
      "FAILURE: job id: 5f7f68f887aa9e001597f3db, status: 'FAIL_TO_GET_STATUS' Terra job error: '\"HTTPSConnectionPool(host=\\'api-qcon.quantum-computing.ibm.com\\', port=443): Max retries exceeded with url: /api/Network/ibm-q-internal/Groups/deployed/Projects/default/Jobs/5f7f68f887aa9e001597f3db/status/v/1 (Caused by NewConnectionError(\\'<urllib3.connection.VerifiedHTTPSConnection object at 0x7fc1e33e3ad0>: Failed to establish a new connection: [Errno 8] nodename nor servname provided, or not known\\'))\"'\n",
      "FAILURE: job id: 5f7f68f887aa9e001597f3db, status: 'FAIL_TO_GET_STATUS' Terra job error: '\"HTTPSConnectionPool(host=\\'api-qcon.quantum-computing.ibm.com\\', port=443): Max retries exceeded with url: /api/Network/ibm-q-internal/Groups/deployed/Projects/default/Jobs/5f7f68f887aa9e001597f3db/status/v/1 (Caused by NewConnectionError(\\'<urllib3.connection.VerifiedHTTPSConnection object at 0x7fc1e120e090>: Failed to establish a new connection: [Errno 8] nodename nor servname provided, or not known\\'))\"'\n",
      "FAILURE: job id: 5f7f68f887aa9e001597f3db, status: 'FAIL_TO_GET_STATUS' Terra job error: '\"HTTPSConnectionPool(host=\\'api-qcon.quantum-computing.ibm.com\\', port=443): Max retries exceeded with url: /api/Network/ibm-q-internal/Groups/deployed/Projects/default/Jobs/5f7f68f887aa9e001597f3db/status/v/1 (Caused by NewConnectionError(\\'<urllib3.connection.VerifiedHTTPSConnection object at 0x7fc1e33fc250>: Failed to establish a new connection: [Errno 8] nodename nor servname provided, or not known\\'))\"'\n",
      "FAILURE: job id: 5f7f68f887aa9e001597f3db, status: 'FAIL_TO_GET_STATUS' Terra job error: '\"HTTPSConnectionPool(host=\\'api-qcon.quantum-computing.ibm.com\\', port=443): Max retries exceeded with url: /api/Network/ibm-q-internal/Groups/deployed/Projects/default/Jobs/5f7f68f887aa9e001597f3db/status/v/1 (Caused by NewConnectionError(\\'<urllib3.connection.VerifiedHTTPSConnection object at 0x7fc1e1369790>: Failed to establish a new connection: [Errno 8] nodename nor servname provided, or not known\\'))\"'\n",
      "FAILURE: job id: 5f7f68f887aa9e001597f3db, status: 'FAIL_TO_GET_STATUS' Terra job error: '\"HTTPSConnectionPool(host=\\'api-qcon.quantum-computing.ibm.com\\', port=443): Max retries exceeded with url: /api/Network/ibm-q-internal/Groups/deployed/Projects/default/Jobs/5f7f68f887aa9e001597f3db/status/v/1 (Caused by NewConnectionError(\\'<urllib3.connection.VerifiedHTTPSConnection object at 0x7fc1e1369e10>: Failed to establish a new connection: [Errno 8] nodename nor servname provided, or not known\\'))\"'\n",
      "FAILURE: job id: 5f7f68f887aa9e001597f3db, status: 'FAIL_TO_GET_STATUS' Terra job error: '\"HTTPSConnectionPool(host=\\'api-qcon.quantum-computing.ibm.com\\', port=443): Max retries exceeded with url: /api/Network/ibm-q-internal/Groups/deployed/Projects/default/Jobs/5f7f68f887aa9e001597f3db/status/v/1 (Caused by NewConnectionError(\\'<urllib3.connection.VerifiedHTTPSConnection object at 0x7fc1e342ab10>: Failed to establish a new connection: [Errno 8] nodename nor servname provided, or not known\\'))\"'\n",
      "FAILURE: job id: 5f7f68f887aa9e001597f3db, status: 'FAIL_TO_GET_STATUS' Terra job error: '\"HTTPSConnectionPool(host=\\'api-qcon.quantum-computing.ibm.com\\', port=443): Max retries exceeded with url: /api/Network/ibm-q-internal/Groups/deployed/Projects/default/Jobs/5f7f68f887aa9e001597f3db/status/v/1 (Caused by NewConnectionError(\\'<urllib3.connection.VerifiedHTTPSConnection object at 0x7fc1e120e190>: Failed to establish a new connection: [Errno 8] nodename nor servname provided, or not known\\'))\"'\n",
      "FAILURE: job id: 5f7f68f887aa9e001597f3db, status: 'FAIL_TO_GET_STATUS' Terra job error: '\"HTTPSConnectionPool(host=\\'api-qcon.quantum-computing.ibm.com\\', port=443): Max retries exceeded with url: /api/Network/ibm-q-internal/Groups/deployed/Projects/default/Jobs/5f7f68f887aa9e001597f3db/status/v/1 (Caused by NewConnectionError(\\'<urllib3.connection.VerifiedHTTPSConnection object at 0x7fc1e33f0250>: Failed to establish a new connection: [Errno 8] nodename nor servname provided, or not known\\'))\"'\n",
      "FAILURE: job id: 5f7f68f887aa9e001597f3db, status: 'FAIL_TO_GET_STATUS' Terra job error: '\"HTTPSConnectionPool(host=\\'api-qcon.quantum-computing.ibm.com\\', port=443): Max retries exceeded with url: /api/Network/ibm-q-internal/Groups/deployed/Projects/default/Jobs/5f7f68f887aa9e001597f3db/status/v/1 (Caused by NewConnectionError(\\'<urllib3.connection.VerifiedHTTPSConnection object at 0x7fc1e332d9d0>: Failed to establish a new connection: [Errno 8] nodename nor servname provided, or not known\\'))\"'\n",
      "FAILURE: job id: 5f7f68f887aa9e001597f3db, status: 'FAIL_TO_GET_STATUS' Terra job error: '\"HTTPSConnectionPool(host=\\'api-qcon.quantum-computing.ibm.com\\', port=443): Max retries exceeded with url: /api/Network/ibm-q-internal/Groups/deployed/Projects/default/Jobs/5f7f68f887aa9e001597f3db/status/v/1 (Caused by NewConnectionError(\\'<urllib3.connection.VerifiedHTTPSConnection object at 0x7fc1e322d550>: Failed to establish a new connection: [Errno 8] nodename nor servname provided, or not known\\'))\"'\n",
      "FAILURE: job id: 5f7f68f887aa9e001597f3db, status: 'FAIL_TO_GET_STATUS' Terra job error: '\"HTTPSConnectionPool(host=\\'api-qcon.quantum-computing.ibm.com\\', port=443): Max retries exceeded with url: /api/Network/ibm-q-internal/Groups/deployed/Projects/default/Jobs/5f7f68f887aa9e001597f3db/status/v/1 (Caused by NewConnectionError(\\'<urllib3.connection.VerifiedHTTPSConnection object at 0x7fc1e332d9d0>: Failed to establish a new connection: [Errno 8] nodename nor servname provided, or not known\\'))\"'\n"
     ]
    },
    {
     "name": "stderr",
     "output_type": "stream",
     "text": [
      "FAILURE: job id: 5f7f68f887aa9e001597f3db, status: 'FAIL_TO_GET_STATUS' Terra job error: '\"HTTPSConnectionPool(host=\\'api-qcon.quantum-computing.ibm.com\\', port=443): Max retries exceeded with url: /api/Network/ibm-q-internal/Groups/deployed/Projects/default/Jobs/5f7f68f887aa9e001597f3db/status/v/1 (Caused by NewConnectionError(\\'<urllib3.connection.VerifiedHTTPSConnection object at 0x7fc1e332d050>: Failed to establish a new connection: [Errno 8] nodename nor servname provided, or not known\\'))\"'\n",
      "FAILURE: job id: 5f7f68f887aa9e001597f3db, status: 'FAIL_TO_GET_STATUS' Terra job error: '\"HTTPSConnectionPool(host=\\'api-qcon.quantum-computing.ibm.com\\', port=443): Max retries exceeded with url: /api/Network/ibm-q-internal/Groups/deployed/Projects/default/Jobs/5f7f68f887aa9e001597f3db/status/v/1 (Caused by NewConnectionError(\\'<urllib3.connection.VerifiedHTTPSConnection object at 0x7fc1e33e3310>: Failed to establish a new connection: [Errno 8] nodename nor servname provided, or not known\\'))\"'\n",
      "FAILURE: job id: 5f7f68f887aa9e001597f3db, status: 'FAIL_TO_GET_STATUS' Terra job error: '\"HTTPSConnectionPool(host=\\'api-qcon.quantum-computing.ibm.com\\', port=443): Max retries exceeded with url: /api/Network/ibm-q-internal/Groups/deployed/Projects/default/Jobs/5f7f68f887aa9e001597f3db/status/v/1 (Caused by NewConnectionError(\\'<urllib3.connection.VerifiedHTTPSConnection object at 0x7fc1e120e650>: Failed to establish a new connection: [Errno 8] nodename nor servname provided, or not known\\'))\"'\n",
      "FAILURE: job id: 5f7f68f887aa9e001597f3db, status: 'FAIL_TO_GET_STATUS' Terra job error: '\"HTTPSConnectionPool(host=\\'api-qcon.quantum-computing.ibm.com\\', port=443): Max retries exceeded with url: /api/Network/ibm-q-internal/Groups/deployed/Projects/default/Jobs/5f7f68f887aa9e001597f3db/status/v/1 (Caused by NewConnectionError(\\'<urllib3.connection.VerifiedHTTPSConnection object at 0x7fc1e33fca10>: Failed to establish a new connection: [Errno 8] nodename nor servname provided, or not known\\'))\"'\n",
      "FAILURE: job id: 5f7f68f887aa9e001597f3db, status: 'FAIL_TO_GET_STATUS' Terra job error: '\"HTTPSConnectionPool(host=\\'api-qcon.quantum-computing.ibm.com\\', port=443): Max retries exceeded with url: /api/Network/ibm-q-internal/Groups/deployed/Projects/default/Jobs/5f7f68f887aa9e001597f3db/status/v/1 (Caused by NewConnectionError(\\'<urllib3.connection.VerifiedHTTPSConnection object at 0x7fc1e3336810>: Failed to establish a new connection: [Errno 8] nodename nor servname provided, or not known\\'))\"'\n",
      "FAILURE: job id: 5f7f68f887aa9e001597f3db, status: 'FAIL_TO_GET_STATUS' Terra job error: '\"HTTPSConnectionPool(host=\\'api-qcon.quantum-computing.ibm.com\\', port=443): Max retries exceeded with url: /api/Network/ibm-q-internal/Groups/deployed/Projects/default/Jobs/5f7f68f887aa9e001597f3db/status/v/1 (Caused by NewConnectionError(\\'<urllib3.connection.VerifiedHTTPSConnection object at 0x7fc1e3336090>: Failed to establish a new connection: [Errno 8] nodename nor servname provided, or not known\\'))\"'\n",
      "FAILURE: job id: 5f7f68f887aa9e001597f3db, status: 'FAIL_TO_GET_STATUS' Terra job error: '\"HTTPSConnectionPool(host=\\'api-qcon.quantum-computing.ibm.com\\', port=443): Max retries exceeded with url: /api/Network/ibm-q-internal/Groups/deployed/Projects/default/Jobs/5f7f68f887aa9e001597f3db/status/v/1 (Caused by NewConnectionError(\\'<urllib3.connection.VerifiedHTTPSConnection object at 0x7fc1e342a6d0>: Failed to establish a new connection: [Errno 8] nodename nor servname provided, or not known\\'))\"'\n",
      "FAILURE: job id: 5f7f68f887aa9e001597f3db, status: 'FAIL_TO_GET_STATUS' Terra job error: '\"HTTPSConnectionPool(host=\\'api-qcon.quantum-computing.ibm.com\\', port=443): Max retries exceeded with url: /api/Network/ibm-q-internal/Groups/deployed/Projects/default/Jobs/5f7f68f887aa9e001597f3db/status/v/1 (Caused by NewConnectionError(\\'<urllib3.connection.VerifiedHTTPSConnection object at 0x7fc1e120e5d0>: Failed to establish a new connection: [Errno 8] nodename nor servname provided, or not known\\'))\"'\n",
      "FAILURE: job id: 5f7f68f887aa9e001597f3db, status: 'FAIL_TO_GET_STATUS' Terra job error: '\"HTTPSConnectionPool(host=\\'api-qcon.quantum-computing.ibm.com\\', port=443): Max retries exceeded with url: /api/Network/ibm-q-internal/Groups/deployed/Projects/default/Jobs/5f7f68f887aa9e001597f3db/status/v/1 (Caused by NewConnectionError(\\'<urllib3.connection.VerifiedHTTPSConnection object at 0x7fc1e33f0990>: Failed to establish a new connection: [Errno 8] nodename nor servname provided, or not known\\'))\"'\n",
      "FAILURE: job id: 5f7f68f887aa9e001597f3db, status: 'FAIL_TO_GET_STATUS' Terra job error: '\"HTTPSConnectionPool(host=\\'api-qcon.quantum-computing.ibm.com\\', port=443): Max retries exceeded with url: /api/Network/ibm-q-internal/Groups/deployed/Projects/default/Jobs/5f7f68f887aa9e001597f3db/status/v/1 (Caused by NewConnectionError(\\'<urllib3.connection.VerifiedHTTPSConnection object at 0x7fc1e332d0d0>: Failed to establish a new connection: [Errno 8] nodename nor servname provided, or not known\\'))\"'\n",
      "FAILURE: job id: 5f7f68f887aa9e001597f3db, status: 'FAIL_TO_GET_STATUS' Terra job error: '\"HTTPSConnectionPool(host=\\'api-qcon.quantum-computing.ibm.com\\', port=443): Max retries exceeded with url: /api/Network/ibm-q-internal/Groups/deployed/Projects/default/Jobs/5f7f68f887aa9e001597f3db/status/v/1 (Caused by NewConnectionError(\\'<urllib3.connection.VerifiedHTTPSConnection object at 0x7fc1e3336d50>: Failed to establish a new connection: [Errno 8] nodename nor servname provided, or not known\\'))\"'\n",
      "FAILURE: job id: 5f7f68f887aa9e001597f3db, status: 'FAIL_TO_GET_STATUS' Terra job error: '\"HTTPSConnectionPool(host=\\'api-qcon.quantum-computing.ibm.com\\', port=443): Max retries exceeded with url: /api/Network/ibm-q-internal/Groups/deployed/Projects/default/Jobs/5f7f68f887aa9e001597f3db/status/v/1 (Caused by NewConnectionError(\\'<urllib3.connection.VerifiedHTTPSConnection object at 0x7fc1e14005d0>: Failed to establish a new connection: [Errno 8] nodename nor servname provided, or not known\\'))\"'\n",
      "FAILURE: job id: 5f7f68f887aa9e001597f3db, status: 'FAIL_TO_GET_STATUS' Terra job error: '\"HTTPSConnectionPool(host=\\'api-qcon.quantum-computing.ibm.com\\', port=443): Max retries exceeded with url: /api/Network/ibm-q-internal/Groups/deployed/Projects/default/Jobs/5f7f68f887aa9e001597f3db/status/v/1 (Caused by NewConnectionError(\\'<urllib3.connection.VerifiedHTTPSConnection object at 0x7fc1e332ddd0>: Failed to establish a new connection: [Errno 8] nodename nor servname provided, or not known\\'))\"'\n"
     ]
    },
    {
     "name": "stdout",
     "output_type": "stream",
     "text": [
      "89 -712.905740494841\n",
      "90 -712.9036740868796\n",
      "91 -712.8933667372621\n",
      "92 -712.9011528440127\n",
      "93 -712.9021858018073\n",
      "94 -712.8909003073757\n",
      "95 -712.8955467726231\n",
      "96 -712.903575753544\n",
      "97 -712.8995099399875\n",
      "98 -712.8980017685478\n",
      "99 -712.9124117464565\n",
      "100 -712.9065168792555\n"
     ]
    },
    {
     "data": {
      "text/plain": [
       "optimal function value: 24.92568631370288\n",
       "optimal value: [1. 0. 1. 0. 1. 1. 0. 0. 0. 0. 1. 1. 0.]\n",
       "status: SUCCESS"
      ]
     },
     "execution_count": 24,
     "metadata": {},
     "output_type": "execute_result"
    }
   ],
   "source": [
    "# qc.draw(fold=120)\n",
    "# print(qc.depth())\n",
    "\n",
    "initial_layout = [17, 18, 15, 12, 10, 7, 4, 1, 2, 3, 5, 8, 11]  # montreal/paris\n",
    "\n",
    "optimizer = COBYLA(maxiter=100)\n",
    "# optimizer = SPSA(maxiter=100)\n",
    "\n",
    "\n",
    "counts = []\n",
    "values = []\n",
    "params = []\n",
    "deviation = []\n",
    "\n",
    "def store_intermediate_result(eval_count, parameters, mean, std):\n",
    "    print(eval_count, mean)\n",
    "    counts.append(eval_count)\n",
    "    values.append(mean)\n",
    "    params.append(parameters)\n",
    "    deviation.append(std)\n",
    "\n",
    "alpha = 0.25\n",
    "cvar_exp = CVaRExpectation(alpha, PauliExpectation())\n",
    "# qi = QuantumInstance(Aer.get_backend('statevector_simulator'), shots=8192, \n",
    "#                      initial_layout=initial_layout, pass_manager=pm)\n",
    "qi = QuantumInstance(hw_backend, shots=8192, initial_layout=initial_layout)\n",
    "vqe = VQE(var_form=qc, quantum_instance=qi, optimizer=optimizer, \n",
    "          callback=store_intermediate_result, expectation=cvar_exp)\n",
    "\n",
    "opt_prob = MinimumEigenOptimizer(vqe)\n",
    "results = opt_prob.solve(qp)\n",
    "\n",
    "results"
   ]
  },
  {
   "cell_type": "code",
   "execution_count": 25,
   "metadata": {},
   "outputs": [
    {
     "data": {
      "text/plain": [
       "<matplotlib.legend.Legend at 0x7fc1e332d810>"
      ]
     },
     "execution_count": 25,
     "metadata": {},
     "output_type": "execute_result"
    },
    {
     "data": {
      "image/png": "[encoded data removed]",
      "text/plain": [
       "<Figure size 720x360 with 1 Axes>"
      ]
     },
     "metadata": {
      "needs_background": "light"
     },
     "output_type": "display_data"
    }
   ],
   "source": [
    "\n",
    "# def plot_energy(counts, vals, optimizers, ref, title_qualifier=\"\"):\n",
    "plt.figure(figsize=(10,5))\n",
    "# for i in range(len(optimizers)):\n",
    "plt.plot(counts, (values),\"*--\", label=\"Simulation\")\n",
    "plt.xlabel('Eval count')\n",
    "plt.ylabel('Energy for VQE')\n",
    "# plt.title('Energy Convergence of VQE procedure %s' %title_qualifier)\n",
    "plt.legend(loc='upper right')"
   ]
  },
  {
   "cell_type": "code",
   "execution_count": 26,
   "metadata": {},
   "outputs": [
    {
     "name": "stdout",
     "output_type": "stream",
     "text": [
      "[ 0  2  4  5 10 11]\n",
      "Approach\tR2\tMSE\n",
      "------------------------------\n",
      "Quantum \t0.836\t558.83\n",
      "RFE     \t0.841\t540.75\n"
     ]
    }
   ],
   "source": [
    "selection = np.where(results.x)[0]\n",
    "print(selection)\n",
    "\n",
    "# apply quantum feature selection\n",
    "x_train_q = x_train[:, selection]\n",
    "x_test_q = x_test[:, selection]\n",
    "\n",
    "# apply RFE feature selection\n",
    "x_train_rfe = x_train[:, selection_rfe]\n",
    "x_test_rfe = x_test[:, selection_rfe]\n",
    "\n",
    "q_eval = evaluate(estimator, x_train_q, y_train, x_test_q, y_test)\n",
    "rfe_eval = evaluate(estimator, x_train_rfe, y_train, x_test_rfe, y_test)\n",
    "\n",
    "print('Approach\\tR2\\tMSE')\n",
    "print('------------------------------')\n",
    "print('Quantum \\t%.3f\\t%.2f' % (q_eval[0], q_eval[1]))\n",
    "print('RFE     \\t%.3f\\t%.2f' % (rfe_eval[0], rfe_eval[1]))"
   ]
  },
  {
   "cell_type": "code",
   "execution_count": null,
   "metadata": {},
   "outputs": [],
   "source": [
    "IBMQ.load_account()\n",
    "provider = IBMQ.get_provider(hub='ibm-q-internal', group='deployed', project='default')"
   ]
  },
  {
   "cell_type": "code",
   "execution_count": null,
   "metadata": {},
   "outputs": [],
   "source": [
    "backend = provider.get_backend('ibmq_manhattan')"
   ]
  },
  {
   "cell_type": "code",
   "execution_count": null,
   "metadata": {},
   "outputs": [],
   "source": [
    "# job.status()\n",
    "# qc_ = vqe.get_optimal_circuit()\n",
    "vqe.optimal_params\n",
    "# qc_.draw()"
   ]
  },
  {
   "cell_type": "code",
   "execution_count": null,
   "metadata": {},
   "outputs": [],
   "source": [
    "initial_layout = [13, 14, 15, 16, 17, 18, 19, 20, 21, 22, 23, 26, 37] # manhattan layout\n",
    "# initial_layout = [23, 21, 18, 15, 12, 10, 7, 4, 1, 2, 3, 5, 8] # montreal layout\n",
    "\n",
    "# optimizer = COBYLA(maxiter=100)\n",
    "optimizer = SPSA(maxiter=10)\n",
    "backend = provider.get_backend('ibmq_manhattan')\n",
    "\n",
    "hardware_counts = []\n",
    "hardware_values = []\n",
    "hardware_params = []\n",
    "hardware_deviation = []\n",
    "\n",
    "def store_intermediate_result(eval_count, parameters, mean, std):\n",
    "    hardware_counts.append(eval_count)\n",
    "    hardware_values.append(mean)\n",
    "    hardware_params.append(parameters)\n",
    "    hardware_deviation.append(std)\n",
    "\n",
    "hardware_qi = QuantumInstance(backend=backend, shots=8192, initial_layout=initial_layout, skip_qobj_validation=False)\n",
    "hardware_vqe = VQE(var_form=qc_t, quantum_instance=hardware_qi, optimizer=optimizer, callback=store_intermediate_result, initial_point=vqe.optimal_params)\n",
    "\n",
    "hardware_opt_prob = MinimumEigenOptimizer(hardware_vqe, penalty=0)\n",
    "# job = execute(hardware_opt_prob.solve(qp), backend)\n",
    "hardware_results = hardware_opt_prob.solve(qp)"
   ]
  },
  {
   "cell_type": "code",
   "execution_count": null,
   "metadata": {},
   "outputs": [],
   "source": [
    "# selection = np.where([1,0,0,0,1,0,0,1,1,0,0,1,1])[0]\n",
    "# selection = np.where([1,0,0,0,1,0,0,1,1,1,0,0,1])[0]\n",
    "selection = np.where(hardware_results.x)[0]\n",
    "\n",
    "print(selection)\n",
    "\n",
    "# apply quantum feature selection\n",
    "x_train_q = x_train[:, selection]\n",
    "x_test_q = x_test[:, selection]\n",
    "\n",
    "# apply RFE feature selection\n",
    "x_train_rfe = x_train[:, selection_rfe]\n",
    "x_test_rfe = x_test[:, selection_rfe]\n",
    "\n",
    "q_eval = evaluate(estimator, x_train_q, y_train, x_test_q, y_test)\n",
    "rfe_eval = evaluate(estimator, x_train_rfe, y_train, x_test_rfe, y_test)\n",
    "\n",
    "print('Approach\\tR2\\tMSE')\n",
    "print('------------------------------')\n",
    "print('Quantum \\t%.3f\\t%.2f' % (q_eval[0], q_eval[1]))\n",
    "print('RFE     \\t%.3f\\t%.2f' % (rfe_eval[0], rfe_eval[1]))\n",
    "\n",
    "# def plot_energy(counts, vals, optimizers, ref, title_qualifier=\"\"):\n",
    "plt.figure(figsize=(10,5))\n",
    "# for i in range(len(optimizers)):\n",
    "plt.plot(hardware_counts, (hardware_values),\"*--\", label=\"hardware\")\n",
    "# plt.plot(counts, (values),\"*--\", label=\"simulation\")\n",
    "plt.xlabel('Eval count')\n",
    "plt.ylabel('Energy for VQE')\n",
    "# plt.title('Energy Convergence of VQE procedure %s' %title_qualifier)\n",
    "plt.legend(loc='upper right')"
   ]
  },
  {
   "cell_type": "code",
   "execution_count": null,
   "metadata": {},
   "outputs": [],
   "source": [
    "hardware_results"
   ]
  },
  {
   "cell_type": "code",
   "execution_count": null,
   "metadata": {},
   "outputs": [],
   "source": [
    "# initial_layout = [13, 14, 15, 16, 17, 18, 19, 20, 21, 22, 23, 26, 37]\n",
    "initial_layout = [23, 21, 18, 15, 12, 10, 7, 4, 1, 2, 3, 5, 8] # montreal layout\n",
    "\n",
    "# optimizer = COBYLA(maxiter=100)\n",
    "optimizer = SPSA(maxiter=10)\n",
    "backend = provider.get_backend('ibmq_montreal')\n",
    "\n",
    "noinitial_hardware_counts = []\n",
    "noinitial_hardware_values = []\n",
    "noinitial_hardware_params = []\n",
    "noinitial_hardware_deviation = []\n",
    "\n",
    "def store_intermediate_result(eval_count, parameters, mean, std):\n",
    "    noinitial_hardware_counts.append(eval_count)\n",
    "    noinitial_hardware_values.append(mean)\n",
    "    noinitial_hardware_params.append(parameters)\n",
    "    noinitial_hardware_deviation.append(std)\n",
    "\n",
    "hardware_qi = QuantumInstance(backend=backend, shots=8192, initial_layout=initial_layout, skip_qobj_validation=False)\n",
    "hardware_vqe = VQE(var_form=qc_t, quantum_instance=hardware_qi, optimizer=optimizer, callback=store_intermediate_result, initial_point=vqe.optimal_params)\n",
    "\n",
    "hardware_opt_prob = MinimumEigenOptimizer(hardware_vqe, penalty=0)\n",
    "# job = execute(hardware_opt_prob.solve(qp), backend)\n",
    "hardware_results = hardware_opt_prob.solve(qp)"
   ]
  },
  {
   "cell_type": "code",
   "execution_count": null,
   "metadata": {},
   "outputs": [],
   "source": []
  },
  {
   "cell_type": "code",
   "execution_count": null,
   "metadata": {},
   "outputs": [],
   "source": []
  },
  {
   "cell_type": "code",
   "execution_count": 37,
   "metadata": {},
   "outputs": [
    {
     "name": "stdout",
     "output_type": "stream",
     "text": [
      "\\ This file has been generated by DOcplex\n",
      "\\ ENCODING=ISO-8859-1\n",
      "\\Problem name: docplex model\n",
      "\n",
      "Minimize\n",
      " obj:\n",
      "Subject To\n",
      " ind1: ib_1 = 1 -> x_1 >= 2\n",
      " ind2: ib_2 = 1 -> x_2 >= 2\n",
      "\n",
      "Bounds\n",
      "       x_1 <= 2\n",
      "       x_2 <= 2\n",
      " 0 <= ib_1 <= 1\n",
      " 0 <= ib_2 <= 1\n",
      "\n",
      "Binaries\n",
      " ib_1 ib_2\n",
      "\n",
      "Generals\n",
      " x_1 x_2\n",
      "End\n",
      "\n",
      "Integer variable list [docplex.mp.Var(type=I,name='x_1',ub=2), docplex.mp.Var(type=I,name='x_2',ub=2)]\n",
      "Indicator variable list [docplex.mp.constr.IndicatorConstraint[ind1](ib_1,x_1 >= 2,true=1), docplex.mp.constr.IndicatorConstraint[ind2](ib_2,x_2 >= 2,true=1)]\n"
     ]
    }
   ],
   "source": [
    "# Make a Docplex model\n",
    "from docplex.mp.model import Model\n",
    "total_number_of_countries = 2\n",
    "lower_limit_array = [0, 0]\n",
    "upper_limit_array = [2, 2]\n",
    "\n",
    "\n",
    "mdl = Model('docplex model')\n",
    "integer_var_list = mdl.integer_var_list(list(range(1, total_number_of_countries + 1)), lb=lower_limit_array, ub=upper_limit_array, name='x')\n",
    "\n",
    "# Define the binary variables which will be used as the indicator variables\n",
    "binary_var_list = mdl.binary_var_list(list(range(1, total_number_of_countries + 1)), lb=None, ub=None, name='ib', key_format=None)\n",
    "\n",
    "cstr_list = [integer_var_list[i] >= total_number_of_countries for i in range(total_number_of_countries)]\n",
    "indicator_var_list = mdl.add_indicators(binary_var_list, cstr_list, true_values=1, names=['ind1', 'ind2'])\n",
    "\n",
    "\n",
    "\n",
    "# mdl.minimize(mdl.scal_prod(integer_var_list, average_cost_per_country_array)\n",
    "#             + mdl.scal_prod(integer_var_list, costs_per_country_with_non_zero_site))\n",
    "print(mdl.export_as_lp_string())\n",
    "print(\"Integer variable list\", integer_var_list)\n",
    "print(\"Indicator variable list\", indicator_var_list)"
   ]
  },
  {
   "cell_type": "code",
   "execution_count": 33,
   "metadata": {},
   "outputs": [
    {
     "data": {
      "text/plain": [
       "[docplex.mp.Var(type=I,name='x_1',ub=2),\n",
       " docplex.mp.Var(type=I,name='x_2',ub=2)]"
      ]
     },
     "execution_count": 33,
     "metadata": {},
     "output_type": "execute_result"
    }
   ],
   "source": [
    "integer_var_list"
   ]
  },
  {
   "cell_type": "code",
   "execution_count": null,
   "metadata": {},
   "outputs": [],
   "source": []
  },
  {
   "cell_type": "code",
   "execution_count": null,
   "metadata": {},
   "outputs": [],
   "source": []
  }
 ],
 "metadata": {
  "kernelspec": {
   "display_name": "QiskitDevenv",
   "language": "python",
   "name": "qiskitdevenv"
  },
  "language_info": {
   "codemirror_mode": {
    "name": "ipython",
    "version": 3
   },
   "file_extension": ".py",
   "mimetype": "text/x-python",
   "name": "python",
   "nbconvert_exporter": "python",
   "pygments_lexer": "ipython3",
   "version": "3.7.3"
  }
 },
 "nbformat": 4,
 "nbformat_minor": 4
}
